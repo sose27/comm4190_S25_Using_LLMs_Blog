{
 "cells": [
  {
   "cell_type": "raw",
   "id": "634eab98-8bf0-4024-b8e1-cefb0028f732",
   "metadata": {},
   "source": [
    "---\n",
    "title: \"What Dessert Are You?\"\n",
    "description: \"Using AI to recreate fun childhood questionnaires\" \n",
    "author: Sose\n",
    "date: \"4/11/2025\"\n",
    "categories:\n",
    "  - LLMs\n",
    "  - Prompting  \n",
    "  - For Kids\n",
    "---"
   ]
  },
  {
   "cell_type": "markdown",
   "id": "b54c6502-bc11-4852-ae7d-b5e1807dd34a",
   "metadata": {},
   "source": [
    "## What dessert are you?\n",
    "\n",
    "*Growing up, my friends and I loved sitting at the computer and entering websites like Buzzfeed or Sporcle for fun personality questionnaires where your favorite ice cream flavor could tell you which character in Gossip Girl you were. This post explores if AI can provide the same satisfactory experience!* \n",
    "\n",
    "**It's time to see if AI can decipher \"which dessert I am\" with some basic questions!** "
   ]
  },
  {
   "cell_type": "markdown",
   "id": "50686f2d-a82b-4521-97a3-38dafd59791e",
   "metadata": {},
   "source": [
    "#### A Buzzfeed quizzes of this nature\n",
    "\n",
    "![](Buzzfeed.png)"
   ]
  },
  {
   "cell_type": "markdown",
   "id": "32961382-b3e2-4f33-853e-8ceeb904056a",
   "metadata": {},
   "source": [
    "### Prompting ChatGPT about this..\n",
    "\n",
    "#### Prompt\n",
    "\n",
    "> so i grew up taking buzzfeed quizzes that would be like: What dog are you?\n",
    "\n",
    "> And ask questions like your favorite color, food, sport, and subject in school to determine what dog you were! I was thinking, we should play a similar game, with colors and images and all, where you ask me questions to determine what dessert I am!\n",
    "\n",
    "#### Response\n",
    "\n",
    "> YES I love this idea!! Let’s play “What Dessert Are You?” — BuzzFeed style, with ✨vibes✨, fun images, and chaotic energy.\n",
    "\n",
    "> I’ll ask you a few questions, and at the end I’ll reveal what dessert you are (with a whole moodboard and description, of course 🍰). Let’s gooo:\n"
   ]
  },
  {
   "cell_type": "markdown",
   "id": "22e0caef-6dd1-4fed-a093-0d9faac08fb7",
   "metadata": {},
   "source": [
    "## Moment of Truth: The quiz with GPT4o.\n",
    "\n",
    "### Chat\n",
    "\n",
    "**1. What’s your ideal weekend plan?**  \n",
    "A. Cozy night in with a book or show  \n",
    "B. Brunch with friends and a little shopping  \n",
    "C. Spontaneous road trip or hike  \n",
    "D. Dancing all night, obviously\n",
    "\n",
    "---\n",
    "\n",
    "**2. Pick a color palette:**\n",
    "\n",
    "A.  \n",
    "🩵🤍💙 (cool, calm, serene)  \n",
    "B.  \n",
    "💖🍑💛 (sweet, sunny, pastel)  \n",
    "C.  \n",
    "🌈🔥🌿 (bold, eclectic, energetic)  \n",
    "D.  \n",
    "🖤💄🍷 (dramatic, luxe, mysterious)\n",
    "\n",
    "---\n",
    "\n",
    "**3. Choose your favorite subject in school (vibe, not actual grade):**  \n",
    "A. Literature or art  \n",
    "B. Psychology or history  \n",
    "C. Science or gym  \n",
    "D. Theater or music\n",
    "\n",
    "---\n",
    "\n",
    "**4. You walk into a bakery. What’s the first thing that catches your eye?**  \n",
    "A. A flaky croissant  \n",
    "B. A pastel layer cake  \n",
    "C. A messy, gooey brownie  \n",
    "D. A macaron tower\n",
    "\n",
    "---\n",
    "\n",
    "**5. Finally, what’s your red flag in a group project?**  \n",
    "A. Overthinking the aesthetic instead of starting  \n",
    "B. Doing the whole thing yourself because no one else will  \n",
    "C. Disappearing for a week then coming back with everything done  \n",
    "D. Turning it into a performance (with music)\n",
    "\n",
    "---\n",
    "\n",
    "Answer with your A/B/C/D choices and I’ll tell you your dessert alter ego 🍦👀\n",
    "### Me\n",
    "Yay!\n",
    "1. D\n",
    "2. B\n",
    "3. B\n",
    "4. C\n",
    "5. B\n",
    "\n",
    "### Chat\n",
    "Oooooh you are a Strawberry Shortcake Trifle 🍓✨\n",
    "\n",
    "Your dessert energy:\n",
    "You’re effortlessly layered — sweet, charming, and full of depth. On the outside, you're all soft colors and chill vibes, but underneath? You've got layers of loyalty, passion, and chaotic brilliance. People trust you to get things done (and you will, even if it kills you a little inside). You’re the friend who remembers everyone’s birthdays, organizes the group trip, and still somehow has time to romanticize life with a pastel iced latte in hand.\n",
    "\n",
    "Flavor notes:\n",
    "Sweet strawberries, whipped cream confidence, sponge-cake reliability, and a hint of “don’t mess with me or the dessert spoon comes out.”\n",
    "\n",
    "You give:\n",
    "Main character energy but in a soft girl way. Think Elle Woods if she also majored in emotional intelligence. 💅\n",
    "\n",
    "Want to play again with a different theme? (What Pasta Are You? What Candle Scent Matches Your Aura? What Type of Cloud Reflects Your Conflict Style? I can go all day 😌)"
   ]
  },
  {
   "cell_type": "markdown",
   "id": "c428ce4f-23c2-4a8e-ae1b-99f395d63d59",
   "metadata": {},
   "source": [
    "![](question.png)\n",
    "Typical question format on Buzzfeed quizzes"
   ]
  },
  {
   "cell_type": "markdown",
   "id": "ac245df7-9dc7-4e62-80ac-5f1a6f96ca7c",
   "metadata": {},
   "source": [
    "### My reflection\n",
    "\n",
    "I think ChatGPT did a pretty good job at this! It asked me questions that were very similar to how Buzzfeed asks them and I felt like I got an overall comparable experience. The only thing lacking was images, colorblocks, and other aesthetic features that make the quiz more enjoyable for a younger audience. With a few graphic design changes, this can be a great alternative to the original Buzzfeed quizzes, especially in a fun customizable way!"
   ]
  }
 ],
 "metadata": {
  "citation-manager": {
   "items": {}
  },
  "kernelspec": {
   "display_name": "Python 3-12 (COMM4190)",
   "language": "python",
   "name": "python3-12_comm4190"
  },
  "language_info": {
   "codemirror_mode": {
    "name": "ipython",
    "version": 3
   },
   "file_extension": ".py",
   "mimetype": "text/x-python",
   "name": "python",
   "nbconvert_exporter": "python",
   "pygments_lexer": "ipython3",
   "version": "3.12.8"
  }
 },
 "nbformat": 4,
 "nbformat_minor": 5
}
