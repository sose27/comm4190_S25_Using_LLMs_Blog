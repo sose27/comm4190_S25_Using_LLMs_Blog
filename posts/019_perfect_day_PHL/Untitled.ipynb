{
 "cells": [
  {
   "cell_type": "raw",
   "id": "b2691a2c-e8ea-4183-88ac-8329eddd2cb8",
   "metadata": {},
   "source": [
    "---\n",
    "title: \"Planning the perfect trip to London!\"\n",
    "description: \"Can ChatGPT produce a solid itinerary for a weekend in London?\"\n",
    "author: Sose\n",
    "date: \"4/28/2024\"\n",
    "categories:\n",
    "  - LLMs\n",
    "  - Advice\n",
    "  - Travel\n",
    "---"
   ]
  },
  {
   "cell_type": "markdown",
   "id": "c54b0904-dd85-47ac-8a42-212b5b834b67",
   "metadata": {},
   "source": [
    "## Will ChatGPT be the perfect tour guide?\n",
    "\n",
    "*Usually before trips, I spend a lot of time on the web planning the perfect itinerary. I take into consideration every neighborhood, sight, park, restaurant, and place I want to see and really make the effort to coordinate a schedule that allows me to see everything. Last semester I studied abroad in London, England, and made multiple weekend itineraries every time I had a visitor. Knowing what I know now, I want to see if chatGPT can do better than me!* \n",
    "\n",
    "**What will ChatGPT depict as the perfect weekend in London?** "
   ]
  },
  {
   "cell_type": "markdown",
   "id": "23df0be4-dcea-4c24-bfa2-acdefb8d7c90",
   "metadata": {},
   "source": [
    "[Interactive Map](LondonMap.html)"
   ]
  },
  {
   "cell_type": "markdown",
   "id": "1a0683dd-dc0b-462d-9605-b014b310d541",
   "metadata": {},
   "source": []
  },
  {
   "cell_type": "code",
   "execution_count": null,
   "id": "88259273-9f10-44c4-b200-4e497696a597",
   "metadata": {},
   "outputs": [],
   "source": []
  }
 ],
 "metadata": {
  "citation-manager": {
   "items": {}
  },
  "kernelspec": {
   "display_name": "Python 3-12 (COMM4190)",
   "language": "python",
   "name": "python3-12_comm4190"
  },
  "language_info": {
   "codemirror_mode": {
    "name": "ipython",
    "version": 3
   },
   "file_extension": ".py",
   "mimetype": "text/x-python",
   "name": "python",
   "nbconvert_exporter": "python",
   "pygments_lexer": "ipython3",
   "version": "3.12.8"
  }
 },
 "nbformat": 4,
 "nbformat_minor": 5
}
