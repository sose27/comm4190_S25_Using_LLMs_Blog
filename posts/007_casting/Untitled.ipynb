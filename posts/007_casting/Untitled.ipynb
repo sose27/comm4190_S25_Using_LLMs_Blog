{
 "cells": [
  {
   "cell_type": "raw",
   "id": "e95c2577-b7b6-4962-947d-633a73376e51",
   "metadata": {},
   "source": [
    "---\n",
    "title: \"Casting...Me!\"\n",
    "description: \"Having an LLM decide who would play me in a movie about my life!\"\n",
    "author: Sose\n",
    "date: \"4/14/2025\"\n",
    "categories:\n",
    "  - Prompting\n",
    "  - Conversations and Dialogue \n",
    "  - Entertainment \n",
    "---"
   ]
  },
  {
   "cell_type": "markdown",
   "id": "2a16d106-b1bd-49de-8d74-651bef921959",
   "metadata": {},
   "source": [
    "## Will AI Cast the Perfect Fit?\n",
    "\n",
    "*I've always imagined what my life would be like if it were a movie. Would my peers talk in the weird way Disney characters do? Would I look at the camera every time something ridiculous happens? Would I have multiple lives? Well, whatever the plot may be, what might be more interesting is who would play me in the movie. I gave the responsibility of casting the best actress to an LLM* \n",
    "\n",
    "**Who does ChatGPT think is the perfect fit for the role of well, me!**"
   ]
  },
  {
   "cell_type": "markdown",
   "id": "659aaa9c-9a33-4655-b980-fa64f4be6b3b",
   "metadata": {},
   "source": [
    "![](poster.png)\n",
    "An AI-generated side-by-side of Rachel Zegler and me, although \"I\" don't quite look anything like myself."
   ]
  },
  {
   "cell_type": "markdown",
   "id": "b8f22588-88cf-4ad8-b69f-2d3c01abe978",
   "metadata": {},
   "source": [
    "## The conversation\n",
    "#### Prompt\n",
    "hi! im thinking about all thats happened in my life and what it would be like if it was turned into a movie!"
   ]
  },
  {
   "cell_type": "markdown",
   "id": "ab168d02-bb1b-4cc5-9d5c-db363f2d21ed",
   "metadata": {},
   "source": [
    "#### Response\n",
    "Tell me a bit about what moments you’d want included — or what kind of feeling you’d want the movie to leave people with. We can cast it, title it, make a soundtrack… I’m all in! 🎬✨"
   ]
  },
  {
   "cell_type": "markdown",
   "id": "e2a11fa4-8566-49c6-a951-3a9b2ad3583c",
   "metadata": {},
   "source": [
    "#### Prompt\n",
    "im not sure, maybe a growing up story? coming of age? probably a mix of dramas or, maybe, a musical!"
   ]
  },
  {
   "cell_type": "markdown",
   "id": "86090919-bee3-494b-9f52-07a913143c93",
   "metadata": {},
   "source": [
    "#### Response\n",
    "Ooooh a *coming-of-age musical* with moments of real drama? That’s such a powerful and emotionally rich combo — like if *Lady Bird* and *La La Land* had a thoughtful, deeply personal baby.\n",
    "\n",
    "Let’s start dreaming it up! A few questions to get the vibe right:\n",
    "\n",
    "1. **What city or town is the “setting”?** Is it somewhere you grew up, or maybe a place that changed everything for you?\n",
    "2. **Who would play *you*?** Or, if not an actor, what *type* of person would play you? (Quirky? Bold? Quiet but observant?)\n",
    "3. **What are a few “chapters” or scenes that *have* to make it in?** Think emotional milestones, personal shifts, pivotal friendships, heartbreaks, wild nights, quiet realizations.\n",
    "4. **What’s the *final scene*?** Like… what’s the moment you want the audience to leave with in their hearts?\n",
    "5. **And of course: original songs or jukebox soundtrack?** (and if jukebox — who’s on it?)\n",
    "\n",
    "Wanna build it out together? I’ll help you sketch it scene by scene 🌟"
   ]
  },
  {
   "cell_type": "markdown",
   "id": "61cb765d-e7c0-4838-9d65-607522d04854",
   "metadata": {},
   "source": [
    "#### Prompt\n",
    "Ugh that could be cool! but before we get into the details, i want to answer the major question here: who will play me?!"
   ]
  },
  {
   "cell_type": "markdown",
   "id": "33bf4a9f-0f53-47a9-8456-5da9d4d209b8",
   "metadata": {},
   "source": [
    "#### Response\n",
    "YES okay this is the perfect casting profile — we’re cooking now 🔥\n",
    "\n",
    "With that combo of **fun-loving**, **free-spirited**, **determined**, and **curious**, you need someone who has *range*. Someone who can dance on rooftops, cry in a car, and also passionately monologue about something they just learned 20 minutes ago. That’s a *star* right there.\n",
    "\n",
    "---\n",
    "\n",
    "### 💫 Custom Casting Options:\n",
    "\n",
    "#### 1. **Leah Lewis**  \n",
    "She’s got that natural curiosity, playful spark, and heart-on-sleeve emotional depth. Could definitely pull off the fun-but-driven, introspective musical lead.\n",
    "\n",
    "#### 2. **Maude Apatow**  \n",
    "She’s got that mix of vulnerable and fierce, and with the right styling, could totally bring out your curls-and-confidence vibe. Think: soft moments, emotional punch.\n",
    "\n",
    "#### 3. **Alia Shawkat (in her younger years or as a throwback reference)**  \n",
    "She’s Armenian and could totally channel that free-spirited, slightly rebellious soul. A modern version of her would be *chef’s kiss*.\n",
    "\n",
    "#### 4. **Tati Gabrielle (with some style tweaks)**  \n",
    "Okay hear me out — not an obvious lookalike, but the energy is immaculate. Curious, clever, expressive — could totally pull off a slightly stylized musical version of your story.\n",
    "\n",
    "#### 5. **Brand New Face**  \n",
    "Honestly… I’m lowkey tempted to say your movie needs a fresh-faced Armenian newcomer. Like someone who hasn’t been in much yet but has *that* spark — the way people felt when they first saw Florence Pugh or Rachel Zegler.\n",
    "\n",
    "---\n",
    "\n",
    "### 🎬 Final Thought:\n",
    "If this movie is your story — from sunny beginnings to dramatic highs, quiet lows, and a big, belting final number — it makes sense to find a star who *isn’t a carbon copy*, but someone who *feels* like you on screen. And right now, I’m leaning toward either a young actress with Armenian roots OR a rising theater-trained performer with natural charisma, range, and a sense of wonder.\n",
    "\n",
    "Want me to cook up a character sheet and scene list next? Or build a fake movie poster with “you” on it? 👀\n"
   ]
  },
  {
   "cell_type": "markdown",
   "id": "06cffc94-32b2-4291-a6ad-17545cde8c55",
   "metadata": {},
   "source": [
    "#### Prompt\n",
    "ugh can you just choose! i like the idea of someone whos already a celeb"
   ]
  },
  {
   "cell_type": "markdown",
   "id": "707905dc-10a5-45dd-add6-130b3f37b6c8",
   "metadata": {},
   "source": [
    "#### Response\n",
    "Yesss I got you — if we’re picking from the celeb world, based on your energy, style, *and* Armenian identity, here’s my final pick:\n",
    "\n",
    "---\n",
    "\n",
    "### 🎬 **Tessa Barresi**  \n",
    "She’s not a household name yet, but she’s young, Armenian-Italian, insanely expressive, and totally ready for a breakout lead role. Think: the kind of star that would get a *\"who is she??\"* article in Vogue the week your movie drops. She’s got the *edge*, the warmth, the presence — and would absolutely *slay* a coming-of-age musical with big heart and soul-searching moments.\n",
    "\n",
    "---\n",
    "\n",
    "BUT if you’re feeling a little more established-celebrity, here’s my backup pick:\n",
    "\n",
    "---\n",
    "\n",
    "### 🎬 **Rachel Zegler**\n",
    "She can *sing her face off*, cry on cue, and still be goofy and lovable between takes. She has that mix of old-soul talent and new-gen energy, and while not Armenian, she could carry your story with care and charisma. She’s got that *lead role sparkle*.\n",
    "\n",
    "---\n",
    "\n",
    "So, final casting:  \n",
    "**Tessa Barresi** as *you* — up-and-coming, Armenian, authentic.  \n",
    "Or  \n",
    "**Rachel Zegler** — powerhouse, musical-ready, Gen Z icon.\n",
    "\n",
    "Wanna keep rolling and build out the scenes or soundtrack now that we’ve got your star?"
   ]
  },
  {
   "cell_type": "markdown",
   "id": "4bee1035-9e80-4ee0-9526-f967630a95a8",
   "metadata": {},
   "source": [
    "#### Prompt\n",
    "rachel zegler would be perfect! "
   ]
  },
  {
   "cell_type": "markdown",
   "id": "efbee336-f1e1-4f88-89b4-c09d82dc8a0a",
   "metadata": {},
   "source": [
    "#### Response\n",
    "YESSSS perfect choice!! Rachel Zegler as *you*? That’s ✨iconic✨. She’s got the pipes, the drama, the humor, the *soul.* She can go from spinning in a field to breaking down in a dorm room to belting a ballad about identity and growing pains — *chef’s kiss*.\n",
    "\n",
    "So now that our leading lady is locked in…\n",
    "\n",
    "---\n",
    "\n",
    "### 🎞️ Title Ideas:\n",
    "Let’s brainstorm a few names that match the tone of your coming-of-age musical drama:\n",
    "\n",
    "- **“In the In-Between”**  \n",
    "  (For that liminal 20-something feeling)\n",
    "- **“Somewhere Between LA and Philly”**  \n",
    "  (Geographically and emotionally 😭)\n",
    "- **“Curly-Haired Confessions”**\n",
    "- **“This Could Be a Song”**  \n",
    "  (Meta-musical title energy)\n",
    "- **“Act I: Me”**  \n",
    "  (Because your story’s still unfolding)\n",
    "\n",
    "---\n",
    "\n",
    "### 🎶 Soundtrack Vibes:\n",
    "Would you want original songs (like *Dear Evan Hansen*, *Tick Tick Boom*)? Or a jukebox musical — using tracks by artists you love? Like:\n",
    "\n",
    "- Mitski\n",
    "- Lizzy McAlpine\n",
    "- Frank Ocean\n",
    "- Noah Kahan\n",
    "- Florence + the Machine\n",
    "- Maybe even throw in some Armenian instrumentation? 👀\n",
    "\n",
    "---\n",
    "\n",
    "Next step: Wanna build out your “big 5 scenes”? Like your *opening*, *conflict*, *turning point*, *low point*, and *final number*?\n",
    "\n",
    "Or should we mock up a dramatic, poster-worthy tagline? (\"One girl. Two cities. A thousand questions.\") 💫\n"
   ]
  },
  {
   "cell_type": "markdown",
   "id": "24c58b03-6584-4b03-9f5a-6d1b7c3a4fa2",
   "metadata": {},
   "source": [
    "\n",
    "#### Prompt\n",
    "can you first make a poster of her starring in the movie about me so i can visualize it?"
   ]
  },
  {
   "cell_type": "markdown",
   "id": "f3433586-ca1d-4ea4-a668-f4e505be8c45",
   "metadata": {},
   "source": [
    "#### Response\n",
    "![](rachel.png)"
   ]
  },
  {
   "cell_type": "markdown",
   "id": "9a6e0f8a-1cb1-4dc2-938e-cecaf1185134",
   "metadata": {},
   "source": [
    "### My reflection\n",
    "This was quite a fun conversation with the LLM! It was interesting to see what criteria ChatGPT used to make its decision, and all that led to it choosing Rachel Zegler for the role of me. I find it quite funny how Chat will use words like \"vibes\" or use emojis within the text in this context, which is so different to how professional and/or academic and explanatory it can be others. Clearly, Chat is very versatile, and even seems devoted to helping me write out the full script for this screenplay! It was also interesting to see how, despite feeding chat an image of myself, the poster in generated as a comparison of Rachel to me was quite off, as I don't think I look anything like that. It got the orange dress I'm wearing in the picture down, but altered my face quite a bit! I've heard Chat can do a decent job at enhancing photos for Linkedin profiles and headshots, so now I'm curious to give it a go after how different it made me look in this exercise. "
   ]
  }
 ],
 "metadata": {
  "citation-manager": {
   "items": {}
  },
  "kernelspec": {
   "display_name": "Python 3-12 (COMM4190)",
   "language": "python",
   "name": "python3-12_comm4190"
  },
  "language_info": {
   "codemirror_mode": {
    "name": "ipython",
    "version": 3
   },
   "file_extension": ".py",
   "mimetype": "text/x-python",
   "name": "python",
   "nbconvert_exporter": "python",
   "pygments_lexer": "ipython3",
   "version": "3.12.8"
  }
 },
 "nbformat": 4,
 "nbformat_minor": 5
}
