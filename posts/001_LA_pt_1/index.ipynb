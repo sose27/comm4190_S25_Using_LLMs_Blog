{
 "cells": [
  {
   "cell_type": "raw",
   "id": "bdd262e1-078f-4b0f-b89c-c66c85a0d08b",
   "metadata": {},
   "source": [
    "---\n",
    "title: \"Hometown Glory pt 1\"\n",
    "description: \"An inside scoop into the city of Angels, written by an LLM\"\n",
    "author: Sose\n",
    "date: \"2/13/2025\"\n",
    "categories:\n",
    "  - LLMs working in first person\n",
    "  - Travel \n",
    "  - Geography\n",
    "---"
   ]
  },
  {
   "cell_type": "markdown",
   "id": "6675dc09-7a4b-4221-ae25-ff5b5af9a415",
   "metadata": {},
   "source": [
    "# Introduction: Asking AI for help with expressing my feelings towards my hometown of LA"
   ]
  },
  {
   "cell_type": "markdown",
   "id": "df161377-e068-471a-ae3a-960eba600278",
   "metadata": {},
   "source": [
    "![Los-Angeles](los-angeles-skyline.svg)"
   ]
  },
  {
   "cell_type": "markdown",
   "id": "8b37dc03-16fc-486a-8224-2a11f088954f",
   "metadata": {},
   "source": [
    "Los Angeles's skyline, as produced by Claude!"
   ]
  },
  {
   "cell_type": "markdown",
   "id": "a9c228cd-3150-4fac-b202-5648629e5271",
   "metadata": {},
   "source": [
    "I was born and raised in Los Angeles and am very proud of the city I come from. In an attempt to product a blog post all about my love, appreciation, and knowledge for LA, I turned to an LLM (Claude) to produce the blog as if it were me. Since LLM's don't typically automatically generate content in the first person, I gave it a blurb to start from."
   ]
  },
  {
   "cell_type": "markdown",
   "id": "65b8f6a2-2afa-4fe1-b160-a0a98b3f8377",
   "metadata": {},
   "source": [
    "Starting text I provided the LLM with: As a native Angeleno, I feel as though I have extensive knowledge of the ins and outs of the city of Angels. I have a deep appreciation for the multicultural landscape and diverse genetic makeup of the city. "
   ]
  },
  {
   "cell_type": "markdown",
   "id": "540cb665-ef4c-4174-8dc1-3e10b1ac9e47",
   "metadata": {},
   "source": [
    "## The post produced by Claude"
   ]
  },
  {
   "cell_type": "markdown",
   "id": "dd6fb877-c584-425c-8007-10daab07eaaa",
   "metadata": {},
   "source": [
    "As a native Angeleno, I feel as though I have extensive knowledge of the ins and outs of the City of Angels. I have a deep appreciation for the multicultural landscape and diverse genetic makeup of the city. Growing up here, it’s impossible not to recognize how the vibrant mix of cultures, backgrounds, and histories has shaped Los Angeles into the dynamic, ever-evolving metropolis it is today. It’s in our food, our neighborhoods, our music, and even the way we interact with each other. There’s truly no place like LA.\n",
    "\n",
    "From the iconic taco trucks that line the streets of Boyle Heights to the Korean BBQ joints in K-Town, food is an undeniable reflection of LA’s cultural diversity. Growing up, I had the privilege of tasting my way through various cuisines, from the rich flavors of Mexican and Salvadoran dishes to the savory tastes of Persian kebabs and Filipino adobo. It’s one of the things I love most about LA—there’s no shortage of options to satisfy any craving. And let’s not forget our coffee culture, with local spots offering everything from artisan brews to boba tea.\n",
    "\n",
    "But LA’s diversity isn’t just seen through its food—our neighborhoods tell the story too. Take a drive down Sunset Boulevard and you’ll pass through so many unique enclaves: the historic architecture of Downtown LA, the hipster vibes of Silver Lake, the glitz of Beverly Hills, the beachy vibes of Venice, and the relaxed, family-friendly energy of neighborhoods like Pasadena. Each area has its own distinct personality, yet they all coexist within this sprawling city. We have a way of blending the old with the new, the traditional with the innovative. That’s what makes LA so special—it's a city that feels like it’s constantly reinventing itself while keeping a strong connection to its roots.\n",
    "\n",
    "And don't even get me started on the people. As an Angeleno, you can meet anyone from a budding artist working out of their garage in the Arts District to a Hollywood executive running into you at the farmer's market. It's a city where you can truly carve out your own path, but you’re also constantly surrounded by people who come from different walks of life. LA fosters a sense of individuality while still celebrating community, and that balance is what keeps the city buzzing with energy.\n",
    "\n",
    "But let’s be real for a second—living in LA isn’t always sunshine and palm trees. We’ve got traffic that can make even the most patient person want to pull their hair out. The cost of living is high, and the hustle is constant. But that’s part of what makes this city unique. Despite the challenges, Angelenos have a resilience that’s hard to match. We keep pushing forward, we find new ways to make it work, and we’re always looking for the next big opportunity.\n",
    "\n",
    "In the end, what makes LA home for me is the sense of possibility that’s everywhere. It’s a city where dreams feel achievable, whether you’re chasing a career in the entertainment industry or trying to make your mark as an entrepreneur. We might not have seasons the way other cities do, but we have something even better—the endless potential to reinvent ourselves, to grow, and to make our mark in a city that embraces the unusual, the creative, and the diverse.\n",
    "\n",
    "There’s something undeniably special about being an Angeleno, and it’s something I’ll always carry with me, no matter where life takes me. From the beach to the mountains, the arts to the food scene, LA will always be the place where I truly feel at home."
   ]
  },
  {
   "cell_type": "markdown",
   "id": "cd127cd9-1989-4f50-9c99-27c59c495faf",
   "metadata": {},
   "source": [
    "![Los-Angeles](beautiful-los-angeles.svg)"
   ]
  },
  {
   "cell_type": "markdown",
   "id": "31054d7b-1551-440f-805c-f6608b7deaa6",
   "metadata": {},
   "source": [
    "A vamped up version of the skyline, produced by Claude"
   ]
  },
  {
   "cell_type": "markdown",
   "id": "13ccb2fa-1181-441e-9281-3568302f8d2d",
   "metadata": {},
   "source": [
    "## My reflections"
   ]
  },
  {
   "cell_type": "markdown",
   "id": "57d8eb59-5f74-4b95-b9c4-f4c9981ac219",
   "metadata": {},
   "source": [
    "I was rather impressed with what the LLM produced. I gave it practically nothing and it was able to hone in on different communities, neighborhoods, and cultures in Los Angeles. \n",
    "Something I found interesting was the way it created a sort of cross between a tourist book and a Wikipedia post. \n",
    "There was a mix of the LLM's personal LA favorites, elaborate details on the various districts throughout the city, and niche personal reflections on the city they seem to love oh so much! I was however very underwhelmed with the pictures it produced for me. The skyline images, both the original and the \"beautiful\" images were mediocre and lacking the amazing details I have seen other LLMs incorporate in their image generation processes. \n",
    "I now am inclined to see what the LLM would offer if I treated it as a travel guide for an upcoming trip to LA..."
   ]
  }
 ],
 "metadata": {
  "citation-manager": {
   "items": {}
  },
  "kernelspec": {
   "display_name": "Python 3 (ipykernel)",
   "language": "python",
   "name": "python3"
  },
  "language_info": {
   "codemirror_mode": {
    "name": "ipython",
    "version": 3
   },
   "file_extension": ".py",
   "mimetype": "text/x-python",
   "name": "python",
   "nbconvert_exporter": "python",
   "pygments_lexer": "ipython3",
   "version": "3.10.12"
  }
 },
 "nbformat": 4,
 "nbformat_minor": 5
}
