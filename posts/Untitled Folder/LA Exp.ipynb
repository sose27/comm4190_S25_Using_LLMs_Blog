{
 "cells": [
  {
   "cell_type": "raw",
   "id": "bdd262e1-078f-4b0f-b89c-c66c85a0d08b",
   "metadata": {},
   "source": [
    "---\n",
    "title: \"LA expertise\"\n",
    "description: \"An inside scoop into the city of Angels, written by an LLM\"\n",
    "author: Sose\"\n",
    "date: \"2/2/2024\"\n",
    "categories:\n",
    "  - LLMs\n",
    "  - prompting\n",
    "  - logic\n",
    "---"
   ]
  },
  {
   "cell_type": "markdown",
   "id": "65b8f6a2-2afa-4fe1-b160-a0a98b3f8377",
   "metadata": {},
   "source": [
    "As a native Angeleno, I feel as though I have extensive knowledge of the ins and outs of the city of Angels. I have a deep appreciation for the multicultural landscape and diverse genetic makeup of the city. "
   ]
  },
  {
   "cell_type": "markdown",
   "id": "ef7be816-7f5c-4ef7-8d12-52bdba8d8a40",
   "metadata": {},
   "source": [
    "I put only the above information into the LLM and asked it to complete the blog post for me, as if it were a native of Los Angeles. This is what it produced:"
   ]
  },
  {
   "cell_type": "markdown",
   "id": "dd6fb877-c584-425c-8007-10daab07eaaa",
   "metadata": {},
   "source": [
    "As a native Angeleno, I feel as though I have extensive knowledge of the ins and outs of the City of Angels. I have a deep appreciation for the multicultural landscape and diverse genetic makeup of the city. Growing up here, it’s impossible not to recognize how the vibrant mix of cultures, backgrounds, and histories has shaped Los Angeles into the dynamic, ever-evolving metropolis it is today. It’s in our food, our neighborhoods, our music, and even the way we interact with each other. There’s truly no place like LA.\n",
    "\n",
    "From the iconic taco trucks that line the streets of Boyle Heights to the Korean BBQ joints in K-Town, food is an undeniable reflection of LA’s cultural diversity. Growing up, I had the privilege of tasting my way through various cuisines, from the rich flavors of Mexican and Salvadoran dishes to the savory tastes of Persian kebabs and Filipino adobo. It’s one of the things I love most about LA—there’s no shortage of options to satisfy any craving. And let’s not forget our coffee culture, with local spots offering everything from artisan brews to boba tea.\n",
    "\n",
    "But LA’s diversity isn’t just seen through its food—our neighborhoods tell the story too. Take a drive down Sunset Boulevard and you’ll pass through so many unique enclaves: the historic architecture of Downtown LA, the hipster vibes of Silver Lake, the glitz of Beverly Hills, the beachy vibes of Venice, and the relaxed, family-friendly energy of neighborhoods like Pasadena. Each area has its own distinct personality, yet they all coexist within this sprawling city. We have a way of blending the old with the new, the traditional with the innovative. That’s what makes LA so special—it's a city that feels like it’s constantly reinventing itself while keeping a strong connection to its roots.\n",
    "\n",
    "And don't even get me started on the people. As an Angeleno, you can meet anyone from a budding artist working out of their garage in the Arts District to a Hollywood executive running into you at the farmer's market. It's a city where you can truly carve out your own path, but you’re also constantly surrounded by people who come from different walks of life. LA fosters a sense of individuality while still celebrating community, and that balance is what keeps the city buzzing with energy.\n",
    "\n",
    "But let’s be real for a second—living in LA isn’t always sunshine and palm trees. We’ve got traffic that can make even the most patient person want to pull their hair out. The cost of living is high, and the hustle is constant. But that’s part of what makes this city unique. Despite the challenges, Angelenos have a resilience that’s hard to match. We keep pushing forward, we find new ways to make it work, and we’re always looking for the next big opportunity.\n",
    "\n",
    "In the end, what makes LA home for me is the sense of possibility that’s everywhere. It’s a city where dreams feel achievable, whether you’re chasing a career in the entertainment industry or trying to make your mark as an entrepreneur. We might not have seasons the way other cities do, but we have something even better—the endless potential to reinvent ourselves, to grow, and to make our mark in a city that embraces the unusual, the creative, and the diverse.\n",
    "\n",
    "There’s something undeniably special about being an Angeleno, and it’s something I’ll always carry with me, no matter where life takes me. From the beach to the mountains, the arts to the food scene, LA will always be the place where I truly feel at home."
   ]
  }
 ],
 "metadata": {
  "kernelspec": {
   "display_name": "Python 3 (ipykernel)",
   "language": "python",
   "name": "python3"
  },
  "language_info": {
   "codemirror_mode": {
    "name": "ipython",
    "version": 3
   },
   "file_extension": ".py",
   "mimetype": "text/x-python",
   "name": "python",
   "nbconvert_exporter": "python",
   "pygments_lexer": "ipython3",
   "version": "3.10.12"
  }
 },
 "nbformat": 4,
 "nbformat_minor": 5
}
