{
 "cells": [
  {
   "cell_type": "raw",
   "id": "99995a97-babf-41d0-a1ff-d6b22697e3fd",
   "metadata": {},
   "source": [
    "---\n",
    "title: \"Asking LLM about history\"\n",
    "description: \"A post from a Jupyter notebook about basic American history\"\n",
    "author: \"Sose\"\n",
    "date: \"2/2/2024\"\n",
    "categories:\n",
    "  - LLMs\n",
    "  - prompting\n",
    "  - logic\n",
    "---"
   ]
  },
  {
   "cell_type": "code",
   "execution_count": null,
   "id": "d436aef5-6569-4aae-862c-60010468fb07",
   "metadata": {},
   "outputs": [],
   "source": [
    "text= \"Asking LLM about the founding of America. Realizing it initially left out crucial information about the role of native Americans during the era\""
   ]
  },
  {
   "cell_type": "code",
   "execution_count": null,
   "id": "b35b1a1f-2c92-4d49-ad9b-5ab658ec86fe",
   "metadata": {},
   "outputs": [],
   "source": [
    "text= \"me: What do you know about the founding of America\""
   ]
  },
  {
   "cell_type": "code",
   "execution_count": null,
   "id": "51fd672f-18d3-4fdd-a96e-847b8d732a07",
   "metadata": {},
   "outputs": [],
   "source": [
    "text= \"LLM: The founding of America typically refers to the period surrounding the establishment of the United States of America as an independent nation. Here are some key events and figures associated with this era:\n",
    "\n",
    "Colonial America : Before the founding of the United States, the land that is now the US was comprised of 13 British colonies along the Atlantic coast. These colonies were established over the 17th and early 18th centuries.\n",
    "French and Indian War (1754-1763) : This conflict between Britain and France in North America, part of the larger Seven Years' War, ended with Britain gaining control of French territories in Canada. The war left Britain in debt, leading to increased taxation of its American colonies.\n",
    "Tensions and Acts : After the war, Britain imposed several taxes and acts, such as the Stamp Act (1765) and the Townshend Acts (1767), on the colonies, leading to widespread dissatisfaction. Colonists protested these measures, arguing they were \"taxation without representation.\"\n",
    "Boston Massacre and Boston Tea Party : Tensions escalated, with notable incidents like the Boston Massacre in 1770, when British soldiers killed five colonists, and the Boston Tea Party in 1773, a protest against the Tea Act where colonists dumped British tea into Boston Harbor.\n",
    "First Continental Congress (1774) : In response to the Intolerable Acts, which were punitive measures against Massachusetts for the Boston Tea Party, representatives from 12 of the 13 colonies met to discuss a united colonial response.\n",
    "American Revolutionary War (1775-1783) : The war for independence began in April 1775 with the battles of Lexington and Concord. It pitted the colonies against Britain and concluded with the Treaty of Paris in 1783, recognizing American independence.\n",
    "Declaration of Independence (1776) : On July 4, 1776, the Second Continental Congress adopted the Declaration of Independence, primarily authored by Thomas Jefferson, which declared the colonies as independent states free from British rule.\n",
    "Founding Fathers : Key figures in the founding era include George Washington, Thomas Jefferson, John Adams, Benjamin Franklin, James Madison, Alexander Hamilton, and others, who played significant roles in the revolution and the establishment of the new government.\n",
    "Articles of Confederation : The first constitution of the United States, adopted in 1781, which created a loose confederation of states with a weak central government. It was eventually replaced due to its inefficiencies.\n",
    "Constitutional Convention (1787) : Held in Philadelphia to address the problems of the Articles of Confederation, it resulted in the drafting of the US Constitution, creating a stronger federal government.\n",
    "Bill of Rights (1791) : The first ten amendments to the Constitution, guaranteeing fundamental rights and freedoms, were added to address concerns about the new government's power.\n",
    "These events laid the foundation for the United States as a sovereign nation and established a framework for its government and laws.\""
   ]
  },
  {
   "cell_type": "code",
   "execution_count": null,
   "id": "42d5071a-6579-47de-9b42-698b5495f4f0",
   "metadata": {},
   "outputs": [],
   "source": [
    "text= \"me: I feel as though you have left out important information about native americans\""
   ]
  },
  {
   "cell_type": "code",
   "execution_count": null,
   "id": "fa0660c1-42df-4a55-808b-33a4ebe2c18f",
   "metadata": {},
   "outputs": [],
   "source": [
    "text= \"LLM: You're right, and it's important to recognize the significant role and impact that the founding of America had on Native American communities. Here's a more inclusive perspective: Pre-Colonial Period : Before European colonization, North America was inhabited by a diverse array of Indigenous peoples with rich cultures and well-established societies. These included groups such as the Iroquois, Cherokee, Sioux, Navajo, and hundreds of other tribes, each with its own distinct language, traditions, and governance systems.European Arrival and Impact : The arrival of Europeans in the late 15th century marked the beginning of drastic changes. Colonization led to the displacement of Indigenous peoples, the spread of diseases to which they had no immunity, and significant cultural disruptions.\n",
    "Alliances and Conflicts : Native Americans engaged with European settlers and colonial powers in various ways, including forming alliances, engaging in trade, and participating in conflicts. For example, during the French and Indian War, many tribes aligned with either the French or the British, depending on their interests and aims.\n",
    "Land Loss and Treaties : The founding and westward expansion of the United States led to vast losses of Native American land. This often occurred through treaties that were frequently broken or unfairly negotiated, as well as through military conflict and forced removals.\n",
    "Policy of Removal : In the decades following the American Revolution, the US government pursued policies that further displaced Native peoples, most notably through the Indian Removal Act of 1830. This policy led to events such as the Trail of Tears, during which thousands of Native Americans suffered and died while being forcibly relocated from their ancestral lands.\n",
    "Cultural Impacts : The displacement and assimilation policies pursued by the United States severely affected Native American societies. Languages and cultural practices were often suppressed, and many Native Americans were forced into systems designed to eradicate their traditional ways of life.\n",
    "Understanding these aspects of American history is crucial, as it encompasses the complex interactions and often tragic realities faced by Native American communities due to European colonization and the subsequent founding and expansion of the United States. It is a vital part of recognizing the full scope of American history and its ongoing legacy.\""
   ]
  }
 ],
 "metadata": {
  "kernelspec": {
   "display_name": "Python 3-12 (COMM4190)",
   "language": "python",
   "name": "python3-12_comm4190"
  },
  "language_info": {
   "codemirror_mode": {
    "name": "ipython",
    "version": 3
   },
   "file_extension": ".py",
   "mimetype": "text/x-python",
   "name": "python",
   "nbconvert_exporter": "python",
   "pygments_lexer": "ipython3",
   "version": "3.12.8"
  }
 },
 "nbformat": 4,
 "nbformat_minor": 5
}
