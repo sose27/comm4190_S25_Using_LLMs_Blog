{
 "cells": [
  {
   "cell_type": "raw",
   "id": "04e0355b-d4f7-47f2-a2e1-7e74d3bb5cc1",
   "metadata": {},
   "source": [
    "---\n",
    "title: \"Recognizing the Armenian Genocide\"\n",
    "description: \"Asking ChatGPT to help with a strategic plan to raise genocide awareness\"\n",
    "author: Sose\n",
    "date: \"4/24/2024\"\n",
    "categories:\n",
    "  - LLMs\n",
    "  - Advice\n",
    "  - Local Matters\n",
    "---"
   ]
  }
 ],
 "metadata": {
  "citation-manager": {
   "items": {}
  },
  "kernelspec": {
   "display_name": "Python 3-12 (COMM4190)",
   "language": "python",
   "name": "python3-12_comm4190"
  },
  "language_info": {
   "codemirror_mode": {
    "name": "ipython",
    "version": 3
   },
   "file_extension": ".py",
   "mimetype": "text/x-python",
   "name": "python",
   "nbconvert_exporter": "python",
   "pygments_lexer": "ipython3",
   "version": "3.12.8"
  }
 },
 "nbformat": 4,
 "nbformat_minor": 5
}
