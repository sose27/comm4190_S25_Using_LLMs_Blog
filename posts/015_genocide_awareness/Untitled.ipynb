{
 "cells": [
  {
   "cell_type": "raw",
   "id": "04e0355b-d4f7-47f2-a2e1-7e74d3bb5cc1",
   "metadata": {},
   "source": [
    "---\n",
    "title: \"Recognizing the Armenian Genocide\"\n",
    "description: \"Asking ChatGPT to help craft a strategic plan to raise genocide awareness\"\n",
    "author: Sose\n",
    "date: \"4/24/2024\"\n",
    "categories:\n",
    "  - LLMs\n",
    "  - Armenian \n",
    "  - Local Matters\n",
    "---"
   ]
  },
  {
   "cell_type": "markdown",
   "id": "cabb6208-b33d-4f11-8d86-f77a542c5578",
   "metadata": {},
   "source": [
    "## Can an LLM help me fight for Justice?\n",
    "\n",
    "*I’m a descendant of Armenian Genocide survivors. My great-grandparents escaped the slaughtering arms of Turkish gendarmes and fled to America, giving my family a chance at survival. Now, it’s on me to make sure their stories are heard. 110 years after the Armenian Genocide of 1915, Turkey still denies it ever happened. And today, Turkey and Azerbaijan continue what they started—trying to wipe out the Armenian people through ethnic cleansing, again, just in the last five years. I, along with Armenian students everywhere, call on our universities to speak up, to recognize this ongoing human rights crisis, and to help end this cycle of denial and violence.* \n",
    "\n",
    "**Can ChatGPT help me devise an action plan?** "
   ]
  },
  {
   "cell_type": "markdown",
   "id": "5aef46c8-0263-4d3d-94ca-eb0fadddeddc",
   "metadata": {},
   "source": [
    "![](graphic.png)"
   ]
  },
  {
   "cell_type": "markdown",
   "id": "65414254-6388-4240-a23f-8e96f8711cef",
   "metadata": {},
   "source": [
    "### Prompting ChatGPT about this\n",
    "\n",
    "#### Prompt \n",
    "today is april 24th. do you know the significance?"
   ]
  },
  {
   "cell_type": "markdown",
   "id": "dfe646e8-a722-4deb-a9cd-d588fd97e0b9",
   "metadata": {},
   "source": [
    "#### Response\n",
    "Yes, I do. April 24th marks the anniversary of the **Armenian Genocide**, which began in 1915. It's a day of remembrance for the 1.5 million Armenians who were systematically exterminated by the Ottoman Empire. \n",
    "\n",
    "For Armenians around the world, it's a solemn day of mourning, reflection, and resistance—honoring the victims, uplifting survivor stories, and continuing the fight for recognition and justice.  \n",
    "\n",
    "Are you doing anything today to commemorate it or raise awareness?"
   ]
  },
  {
   "cell_type": "markdown",
   "id": "70bd7130-0e99-44e2-870b-bc42f6999152",
   "metadata": {},
   "source": [
    "#### Prompt \n",
    "Well you see, i am an undergraduate at the university of pennsylvania. i see how other schools like UCLA, USC, and even harvard have armenian studies programs and unequivocally support the recognition of the 1915 armenian genocide. i dont know how to make this change at penn. I have already started an armenian language course + am a member of the armenian students club that has a speaker event today for the 110th commemoration. what else can i do? the university needs to recognize this! "
   ]
  },
  {
   "cell_type": "markdown",
   "id": "3e4deabf-ab36-4663-b672-590c3905cc93",
   "metadata": {},
   "source": [
    "#### Response\n",
    "Sose, first of all—what you’re doing already is *powerful.* Teaching Western Armenian on campus, organizing speaker events, and building community through the Armenian Students Club—those are acts of cultural preservation and resistance. Seriously, you are already carrying forward a legacy of strength.\n",
    "\n",
    "But you're right: **institutional recognition matters**, and Penn should be part of that growing academic and moral movement. Here are some steps you can take to push for change:\n",
    "\n",
    "---\n",
    "\n",
    "### 🪧 1. **Draft a Formal Petition or Resolution**\n",
    "- Partner with the Armenian Students Club and allies in other cultural orgs.\n",
    "- Frame it not just as a call for genocide recognition but also a demand for an **Armenian Studies Program**, modeled on what USC, UCLA, or Harvard offer.\n",
    "- Cite peer institutions and emphasize the academic value: genocide studies, diaspora studies, language preservation.\n",
    "\n",
    "---\n",
    "\n",
    "### 🧠 2. **Meet with Faculty Allies**\n",
    "- Reach out to professors in **history, Near Eastern languages and civilizations, political science, and human rights.**\n",
    "- Many faculty will support your efforts and could help advocate internally for curriculum change or event funding.\n",
    "\n",
    "---\n",
    "\n",
    "### 📣 3. **Organize a Public Awareness Campaign**\n",
    "- Use on-campus media (The Daily Pennsylvanian), flyers, and social media to inform the student body.\n",
    "- A photo installation or testimonial wall on Locust Walk around April 24 could make people *see* the loss and history.\n",
    "\n",
    "---\n",
    "\n",
    "### 🧾 4. **Submit an Op-Ed or Statement**\n",
    "- A student-penned column (like yours!) in the DP or a broader outlet can make a big splash. You have the voice and the credibility—use it to pressure Penn to make a statement of recognition and support.\n",
    "\n",
    "---\n",
    "\n",
    "### 🤝 5. **Form a Coalition**\n",
    "- Reach out to Jewish, Greek, and other student groups whose communities have endured oppression or genocide.\n",
    "- Cross-cultural solidarity gives your cause more weight and fosters mutual understanding.\n",
    "\n",
    "---\n",
    "\n",
    "### 💌 6. **Write to Administration**\n",
    "- A respectful, direct letter to the **Office of the President or Provost** can start a dialogue.\n",
    "- Emphasize the academic integrity, ethical responsibility, and peer precedent of recognizing the genocide and establishing a program.\n",
    "\n",
    "---\n",
    "\n",
    "Would you like help drafting a letter or petition? Or maybe a social media post or flyer for today’s event? I’m fully with you on this."
   ]
  },
  {
   "cell_type": "markdown",
   "id": "f0b4a241-f128-4dab-9b69-b1e127a0e34b",
   "metadata": {},
   "source": [
    "#### Prompt\n",
    "could you help me write to the administration?"
   ]
  },
  {
   "cell_type": "markdown",
   "id": "0a914b04-4c72-4223-a214-cc043969296f",
   "metadata": {},
   "source": [
    "#### Response\n",
    "Absolutely. Let's create a respectful, compelling letter that highlights both the moral and academic responsibility Penn holds. Here’s a draft you can send to the Office of the President, Provost, or relevant deans:\n",
    "\n",
    "---\n",
    "\n",
    "**Subject:** A Call for Genocide Recognition and the Establishment of Armenian Studies at Penn\n",
    "\n",
    "Dear President [Name] and Provost [Name],\n",
    "\n",
    "I hope this message finds you well. My name is Sose Hovannisian, and I am an undergraduate student at the University of Pennsylvania. I write to you today not only as a member of the Armenian Students Association, but also as a representative of a broader community of students who believe in the values of truth, justice, and historical accountability.\n",
    "\n",
    "Today, April 24th, marks the 110th anniversary of the Armenian Genocide—the systematic extermination of 1.5 million Armenians by the Ottoman Empire beginning in 1915. This day is recognized around the world as a solemn moment of remembrance, resistance, and education. Yet at Penn, a leading institution of global scholarship and civic engagement, there remains a noticeable silence.\n",
    "\n",
    "Many peer institutions—including UCLA, USC, Harvard, and Columbia—have taken clear steps to honor and recognize this history. They have publicly acknowledged the Armenian Genocide, supported programming for genocide education, and established Armenian Studies programs that promote cultural and historical scholarship.\n",
    "\n",
    "Penn has the opportunity—and the responsibility—to do the same.\n",
    "\n",
    "In the absence of institutional support, our Armenian student community has worked hard to keep our heritage alive. This year, I launched an Armenian language course on campus. We have hosted cultural events, speaker panels, and commemorations. But these efforts need and deserve the backing of the university itself.\n",
    "\n",
    "We respectfully ask the administration to:\n",
    "1. Publicly recognize the Armenian Genocide.\n",
    "2. Explore the establishment of an Armenian Studies initiative, potentially housed within the School of Arts & Sciences.\n",
    "3. Support student-led initiatives around genocide remembrance, cultural preservation, and historical education.\n",
    "\n",
    "These are not just Armenian issues—they are human issues. At a time when truth is often under attack and historical revisionism is widespread, silence can be complicity. Penn has long prided itself on being a leader in ethical research, global education, and social progress. This is a chance to reaffirm that commitment.\n",
    "\n",
    "Thank you for taking the time to consider this appeal. I would welcome the opportunity to speak with you or your office further and am happy to provide supporting materials or meet with faculty allies.\n",
    "\n",
    "With hope and sincerity,  \n",
    "**Sose Hovannisian**  \n",
    "Undergraduate, University of Pennsylvania  \n",
    "Member, Armenian Students Association  \n",
    "[Your contact info]\n",
    "\n",
    "---\n",
    "\n",
    "Would you like a shorter version too? Or would you want help adjusting it for a specific administrator’s tone or background?"
   ]
  },
  {
   "cell_type": "markdown",
   "id": "93a7c1d7-6908-4480-a343-100e094763ba",
   "metadata": {},
   "source": [
    "#### Prompt \n",
    "This is great! how do we make this fool proof \n"
   ]
  },
  {
   "cell_type": "markdown",
   "id": "b954f94b-f481-4d96-809d-cc11f5cebc2e",
   "metadata": {},
   "source": [
    "#### Response\n",
    "I love that energy—*let’s make it unignorable.* Here's how we can **bulletproof** this letter into something they *have* to take seriously:\n",
    "\n",
    "---\n",
    "\n",
    "### ✅ **1. Tailor it to the Right People**\n",
    "- Address it to **specific names**: the University President (currently **Liz Magill**, as of now) and **Provost John Jackson Jr.**\n",
    "- CC relevant stakeholders:  \n",
    "  - Dean of the School of Arts & Sciences  \n",
    "  - Chair of the History Department  \n",
    "  - Director of the Center for Human Rights  \n",
    "  - Faculty you know who are sympathetic\n",
    "\n",
    "---\n",
    "\n",
    "### ✅ **2. Attach Supporting Materials**\n",
    "Attach:\n",
    "- A one-pager of peer institutions with Armenian Studies programs or genocide recognition policies\n",
    "- A brief outline of your Armenian language initiative\n",
    "- A flyer or recap of today's event\n",
    "- A petition or signatures (if applicable)\n",
    "\n",
    "---\n",
    "\n",
    "### ✅ **3. Preempt Criticism**\n",
    "Add one sentence acknowledging Penn’s diverse global community to preempt claims of “political neutrality”:\n",
    "> \"Recognizing the Armenian Genocide is not a political act—it is a historical fact, supported by a global consensus of scholars, historians, and human rights organizations.\"\n",
    "\n",
    "---\n",
    "\n",
    "### ✅ **4. Offer a Constructive Path Forward**\n",
    "Make it clear you want to **work with them**:\n",
    "> \"We’d be grateful to form a working group of students and faculty to explore how Penn might implement these changes thoughtfully and sustainably.\"\n",
    "\n",
    "---\n",
    "\n",
    "### ✅ **5. Keep a Public + Private Strategy**\n",
    "- Email the letter privately to key admin  \n",
    "- Also consider publishing an open letter or op-ed in **The Daily Pennsylvanian**\n",
    "- If they don’t respond, you can escalate through media and organizing\n",
    "\n",
    "---\n",
    "\n",
    "### Final Polished Version:\n",
    "\n",
    "Would you like me to revise the letter now with all these improvements baked in? I can drop in the specific names and polish the tone for max clarity and conviction.\n"
   ]
  },
  {
   "cell_type": "markdown",
   "id": "e0954d0b-293b-4422-b38d-76455fe19d06",
   "metadata": {},
   "source": [
    "![](genocide_awareness.png)"
   ]
  },
  {
   "cell_type": "markdown",
   "id": "d5b5e080-f301-4b5f-9c94-3da5badb1187",
   "metadata": {},
   "source": [
    "### My commentary\n",
    "I think the LLM was great and very receptive. It helped me craft a solid plan for advocating Armenian Genocide recognition at my university—from drafting a compelling letter to generating creative visuals that capture the cause. I feel more empowered and organized moving forward."
   ]
  }
 ],
 "metadata": {
  "citation-manager": {
   "items": {}
  },
  "kernelspec": {
   "display_name": "Python 3-12 (COMM4190)",
   "language": "python",
   "name": "python3-12_comm4190"
  },
  "language_info": {
   "codemirror_mode": {
    "name": "ipython",
    "version": 3
   },
   "file_extension": ".py",
   "mimetype": "text/x-python",
   "name": "python",
   "nbconvert_exporter": "python",
   "pygments_lexer": "ipython3",
   "version": "3.12.8"
  }
 },
 "nbformat": 4,
 "nbformat_minor": 5
}
