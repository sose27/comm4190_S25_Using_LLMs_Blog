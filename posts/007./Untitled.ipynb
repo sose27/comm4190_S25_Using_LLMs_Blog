{
 "cells": [
  {
   "cell_type": "markdown",
   "id": "56daacf5-d29f-4a46-8267-93edfc6d3f8c",
   "metadata": {},
   "source": [
    "---\n",
    "title: \"Casting...Me!\"\n",
    "description: \"Having an LLM decide who would play me in a movie about my life!\"\n",
    "author: Sose\n",
    "date: \"4/14/2024\"\n",
    "categories:\n",
    "  - Prompting\n",
    "  - Conversations and Dialogue \n",
    "  - Entertainment \n",
    "---"
   ]
  },
  {
   "cell_type": "markdown",
   "id": "2a16d106-b1bd-49de-8d74-651bef921959",
   "metadata": {},
   "source": [
    "## Will AI Cast the Perfect Fit?\n",
    "\n",
    "*I've always imagined what my life would be like if it were a movie. Would my peers talk in the weird way Disney characters do? Would I look at the camera every time something ridiculous happens? Would I have multiple lives? Well, whatever the plot may be, what might be more interesting is who would play me in the movie. I gave the responsibility of casting the best actress to an LLM* \n",
    "\n",
    "**Who does ChatGPT think is the perfect fit for the role of well, me!**"
   ]
  },
  {
   "cell_type": "markdown",
   "id": "822fbdfe-ad50-4e57-a019-c45c5afa79eb",
   "metadata": {},
   "source": [
    "![](rachel.png)"
   ]
  },
  {
   "cell_type": "markdown",
   "id": "659aaa9c-9a33-4655-b980-fa64f4be6b3b",
   "metadata": {},
   "source": [
    "![](poster.png)"
   ]
  },
  {
   "cell_type": "code",
   "execution_count": null,
   "id": "3c216a49-893f-4277-8c19-3921baddc445",
   "metadata": {},
   "outputs": [],
   "source": []
  }
 ],
 "metadata": {
  "citation-manager": {
   "items": {}
  },
  "kernelspec": {
   "display_name": "Python 3-12 (COMM4190)",
   "language": "python",
   "name": "python3-12_comm4190"
  },
  "language_info": {
   "codemirror_mode": {
    "name": "ipython",
    "version": 3
   },
   "file_extension": ".py",
   "mimetype": "text/x-python",
   "name": "python",
   "nbconvert_exporter": "python",
   "pygments_lexer": "ipython3",
   "version": "3.12.8"
  }
 },
 "nbformat": 4,
 "nbformat_minor": 5
}
