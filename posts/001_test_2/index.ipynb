{
 "cells": [
  {
   "cell_type": "raw",
   "id": "b8456608-c62c-4a9b-8811-c0fe8802e789",
   "metadata": {},
   "source": [
    "---\n",
    "title: \"Sose's Blog\"\n",
    "description: \"An example post from a Jupyter notebook\"\n",
    "author: \"An LLM User\"\n",
    "date: \"2/2/2024\"\n",
    "categories:\n",
    "  - LLMs\n",
    "  - prompting\n",
    "  - logic\n",
    "---"
   ]
  },
  {
   "cell_type": "markdown",
   "id": "4942f782-ae13-4a78-83d3-677030ce5660",
   "metadata": {},
   "source": [
    "Today I am learning how to code."
   ]
  },
  {
   "cell_type": "code",
   "execution_count": null,
   "id": "83ff6800-c4ed-47ac-ab22-e703270ebc13",
   "metadata": {},
   "outputs": [],
   "source": []
  }
 ],
 "metadata": {
  "kernelspec": {
   "display_name": "Python 3-12 (COMM4190)",
   "language": "python",
   "name": "python3-12_comm4190"
  },
  "language_info": {
   "codemirror_mode": {
    "name": "ipython",
    "version": 3
   },
   "file_extension": ".py",
   "mimetype": "text/x-python",
   "name": "python",
   "nbconvert_exporter": "python",
   "pygments_lexer": "ipython3",
   "version": "3.12.8"
  }
 },
 "nbformat": 4,
 "nbformat_minor": 5
}
