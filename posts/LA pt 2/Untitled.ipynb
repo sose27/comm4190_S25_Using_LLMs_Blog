{
 "cells": [
  {
   "cell_type": "raw",
   "id": "5f6be665-179f-401e-8824-0df9564911d6",
   "metadata": {},
   "source": [
    "---\n",
    "title: \"Hometown Glory pt 2\"\n",
    "description: \"Asking an LLM who's been trained to be a native Angeleno for first-time travel tips\"\n",
    "author: Sose\"\n",
    "date: \"2/17/2024\"\n",
    "categories:\n",
    "  - LLMs working in first person\n",
    "  - Conversations and Dialogue \n",
    "  - Travel \n",
    "---"
   ]
  },
  {
   "cell_type": "markdown",
   "id": "da460840-10a7-4fb7-ac2f-db633f1c1433",
   "metadata": {},
   "source": [
    "# A continued effort to understand an LLM well-versed in everything LA!"
   ]
  },
  {
   "cell_type": "markdown",
   "id": "7ef8bf81-912b-452e-bd16-dc407c09de7f",
   "metadata": {},
   "source": [
    "In part one of this series, I asked Claude to write a blog post about Los Angeles as if it were me. After giving it a minimal blurb to give it the jumpstart it needed, it produced an elaborate piece about LA that seemed to be a cross between a travel guide and a Wikipedia page. Nevertheless, it was a well-informed, first-person reflection on \"my\" love and appreciation for Los Angeles. This inspired me to have a full conversation with my recently converted Angeleo LLM to understand what it would recommend for a first-time traveler to LA. "
   ]
  },
  {
   "cell_type": "markdown",
   "id": "7c83a6e2-4e2e-43c0-bbf7-b5ab7905fc54",
   "metadata": {},
   "source": [
    "## The conversation"
   ]
  },
  {
   "cell_type": "markdown",
   "id": "20ce3900-ab83-4d29-be20-527ddc6c3c9f",
   "metadata": {},
   "source": [
    "I went back into the archived original chat I had in Claude when it helped me craft my blog post. This is what I prompted it with: I would now like to have a conversation with you as the experienced native Angeleno (as you were in the blog) and me as a first-time traveler to LA. The following is how our conversation went:"
   ]
  },
  {
   "cell_type": "markdown",
   "id": "92af4b44-af63-42a7-b2d2-2af0dcf057ae",
   "metadata": {},
   "source": [
    "insert images of conversation here"
   ]
  },
  {
   "cell_type": "markdown",
   "id": "cd121b5e-cf92-44b7-a3ba-f7dafc189559",
   "metadata": {},
   "source": [
    "## my reflection"
   ]
  },
  {
   "cell_type": "markdown",
   "id": "e47d6837-9e55-4807-b5bf-97e2d250468c",
   "metadata": {},
   "source": [
    "I believe our conversation was rather interesting, especially when it took a turn. The LLM was very receptive to my desires as a supposed Arkansan who was bored at home and dreamed of a life of Hollywood fame and glitz. The LLM was initially very helpful, it knew lots about various Los Angeles neighborhoods and even tailored the recommendations specifically to what it imagined I would like. "
   ]
  }
 ],
 "metadata": {
  "kernelspec": {
   "display_name": "Python 3-12 (COMM4190)",
   "language": "python",
   "name": "python3-12_comm4190"
  },
  "language_info": {
   "codemirror_mode": {
    "name": "ipython",
    "version": 3
   },
   "file_extension": ".py",
   "mimetype": "text/x-python",
   "name": "python",
   "nbconvert_exporter": "python",
   "pygments_lexer": "ipython3",
   "version": "3.12.8"
  }
 },
 "nbformat": 4,
 "nbformat_minor": 5
}
