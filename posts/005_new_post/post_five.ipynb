{
 "cells": [
  {
   "cell_type": "raw",
   "id": "634eab98-8bf0-4024-b8e1-cefb0028f732",
   "metadata": {},
   "source": [
    "---\n",
    "title: \"Post #5\"\n",
    "description: \"A new post\" \n",
    "author: \"Sose\"\n",
    "date: \"3/22/2025\"\n",
    "categories:\n",
    "  - LLMs\n",
    "  - Conversation\n",
    "---"
   ]
  },
  {
   "cell_type": "markdown",
   "id": "b54c6502-bc11-4852-ae7d-b5e1807dd34a",
   "metadata": {},
   "source": [
    "## How do we talk to each other?\n",
    "\n",
    "This is a *content* cell\n",
    "\n",
    "This is **bold** text\n",
    "\n",
    "### Level 3 \n",
    "\n",
    "* Item 1\n",
    "* Item 2\n",
    "  * Item 2.1"
   ]
  },
  {
   "cell_type": "markdown",
   "id": "50686f2d-a82b-4521-97a3-38dafd59791e",
   "metadata": {},
   "source": [
    "#### These are my best friends\n",
    "\n",
    "![](friends.jpeg)"
   ]
  },
  {
   "cell_type": "markdown",
   "id": "32961382-b3e2-4f33-853e-8ceeb904056a",
   "metadata": {},
   "source": [
    "### Prompting Claude about this..\n",
    "\n",
    "#### Prompt\n",
    "\n",
    "> I want to understand the key parameters in a simulation of sheep and wolves interacting in a fixed grazing space\n",
    "\n",
    "#### Response\n",
    "\n",
    "> Let me help you explore the key parameters for a predator-prey simulation model. I'll create a simple Python class that demonstrates these parameters while making it easy to experiment with different values.\n",
    "\n",
    "\n"
   ]
  },
  {
   "cell_type": "markdown",
   "id": "22e0caef-6dd1-4fed-a093-0d9faac08fb7",
   "metadata": {},
   "source": [
    "## Conversation with GPT4o as my bestie...\n",
    "\n",
    "### USER\n",
    "Let’s have a conversation like we are best friends - ok?\n",
    "\n",
    "### ASSISTANT\n",
    "Of course! That sounds great. How's everything going with you? Anything exciting happening in your life lately?\n",
    "\n",
    "### USER\n",
    "How are you?\n",
    "\n",
    "### ASSISTANT\n",
    "I'm doing well, thanks for asking! Just here, ready to chat and catch up with you. How about you? How’s everything on your end?\n",
    "\n",
    "### USER\n",
    "Yeah trying to recover from spring break\n",
    "\n",
    "### ASSISTANT\n",
    "Ah, the classic spring break recovery period! Did you go anywhere exciting or just have fun locally?"
   ]
  },
  {
   "cell_type": "code",
   "execution_count": null,
   "id": "93879f3e-01a8-4210-b3a5-ea7751c70314",
   "metadata": {},
   "outputs": [],
   "source": []
  }
 ],
 "metadata": {
  "kernelspec": {
   "display_name": "Python 3-12 (COMM4190)",
   "language": "python",
   "name": "python3-12_comm4190"
  },
  "language_info": {
   "codemirror_mode": {
    "name": "ipython",
    "version": 3
   },
   "file_extension": ".py",
   "mimetype": "text/x-python",
   "name": "python",
   "nbconvert_exporter": "python",
   "pygments_lexer": "ipython3",
   "version": "3.12.8"
  }
 },
 "nbformat": 4,
 "nbformat_minor": 5
}
