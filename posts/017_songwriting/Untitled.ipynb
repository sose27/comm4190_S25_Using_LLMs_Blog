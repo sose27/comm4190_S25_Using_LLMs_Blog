{
 "cells": [
  {
   "cell_type": "raw",
   "id": "1a5dcef3-544c-4462-b5f6-f1ef2034d1d7",
   "metadata": {},
   "source": [
    "---\n",
    "title: \"Sing Your (AI?) Heart Out!\"\n",
    "description: \"Using Claude as an assistant song writer\"\n",
    "author: Sose\n",
    "date: \"4/27/2025\"\n",
    "categories:\n",
    "  - LLMs\n",
    "  - Music \n",
    "  - Entertainment\n",
    "---"
   ]
  },
  {
   "cell_type": "markdown",
   "id": "94ec0b33-e75b-4e3f-b037-952a8f2509b5",
   "metadata": {},
   "source": [
    "## Are LLMs able to produce the human emotion and raw feelings found in breakup songs?\n",
    "\n",
    "*Songs written about breakups and lost love are often full of raw emotion and require the artist/songwriter to really let their guard down when coming up with the lyrics. I am curious to see if Claude can generate these heartwrenching feelings as an LLM with no feelings at all.* "
   ]
  },
  {
   "cell_type": "markdown",
   "id": "cc126156-d6bd-4b87-ac29-08cc4a5716d7",
   "metadata": {},
   "source": [
    "![](signals.png)"
   ]
  },
  {
   "cell_type": "markdown",
   "id": "bdbc798a-eb15-463d-b6c4-5cb0fb2fd4f4",
   "metadata": {},
   "source": [
    "### Putting Claude to the test!\n",
    "\n",
    "#### Prompt \n",
    "Hi! I need some help writing a song about a boy in my life"
   ]
  },
  {
   "cell_type": "markdown",
   "id": "6c3a2848-69d0-4162-9f81-70987eb3e393",
   "metadata": {},
   "source": [
    "#### Response \n",
    "I'd be happy to help you write a song about a boy in your life! Songs are a wonderful way to express feelings and capture special moments or relationships.\n",
    "\n",
    "To get started, could you share a bit more about:\n",
    "\n",
    "1. What aspects of this boy you'd like to highlight (his personality, how he makes you feel, specific memories, etc.)\n",
    "2. The general mood you want for the song (happy, wistful, romantic, etc.)\n",
    "3. Any musical style preferences (pop, folk, country, etc.)\n",
    "4. Whether you need just lyrics or would like melody suggestions too\n",
    "\n",
    "The more details you provide, the more personalized I can make the song. I'm excited to help you create something meaningful!"
   ]
  },
  {
   "cell_type": "markdown",
   "id": "df675c70-511c-41df-b548-a991633ccb83",
   "metadata": {},
   "source": [
    "#### Prompt \n",
    "well he drives me CRAZY. He tells all his friends he's interested in me, makes it so clear that he sees a future with the two of us, and has communicated to me in various ways that he wants to be together. He is exactly my type and the same culture as me, basically the perfect guy for me on paper. we're the same age, he goes to yale and im at penn (but i wouldnt want to mention this explicitly in the song), which really arent that far from each other. Yet, he tells people he isn't \"going after me\" because he doesn't want to do \"long-distance\" in college. Yet he's always the first person to see and like anything I ever put on social media. what's more, every time i see any of his friends they tell me \"i hope you know you're always on his mind\" and this drives me crazy! Because why am i on his mind if hes not acting on it. i dont want to sit and wait around for him but also cant give up the idea of him because hes literally perfect for me. He has even told his friends before that he thinks im the perfect armenian girl for him. when we see each other it is so clearly tense and he slips up by showing more emotion than he wants/allows himself to, and of course i am an emotional hopeless romantic who is ready to jump on this opportunity. But all my friends tell me the perfect guy for me wouldnt make me sit and wait. they tell me: Dont wait and hope for a guy to chase you if he already knows exactly where to find you and hasnt come to you yet. ughhhh he drives me crazy\n"
   ]
  },
  {
   "cell_type": "markdown",
   "id": "82904221-d33d-456b-90d2-fc4f8538d5b7",
   "metadata": {},
   "source": [
    "#### Response \n",
    "Thank you for sharing these details! I can definitely feel your frustration and the emotional rollercoaster you're experiencing. This situation has all the emotional tension and complexity that makes for a great song. Let me create lyrics that capture this dynamic of him saying one thing to friends, doing another, and the way it's affecting you.\n",
    "\n",
    "# Mixed Signals\n",
    "\n",
    "## Verse 1:\n",
    "He tells his friends I'm on his mind\n",
    "First to like my posts every time\n",
    "Perfect on paper, that's what they say\n",
    "But he keeps me at arm's length anyway\n",
    "Says distance is the reason why\n",
    "But I can see it in his eyes\n",
    "\n",
    "## Chorus:\n",
    "You're sending mixed signals my way\n",
    "Saying one thing but acting another way\n",
    "Your friends tell me I'm always on your mind\n",
    "While you're making excuses to stay behind\n",
    "And it drives me crazy, drives me insane\n",
    "I can't move forward, can't look away\n",
    "\n",
    "## Verse 2:\n",
    "Tension fills the air when we meet\n",
    "Your guard slips down, I feel the heat\n",
    "You call me perfect for you, it's true\n",
    "But perfect guys don't make you wait like you do\n",
    "I'm right here where you can find me\n",
    "But you won't cross that line, you see\n",
    "\n",
    "## Bridge:\n",
    "My friends say don't wait around\n",
    "For someone who knows where you can be found\n",
    "But my heart won't listen to reason\n",
    "When it comes to you, I'm in too deep\n",
    "\n",
    "## Chorus:\n",
    "You're sending mixed signals my way\n",
    "Saying one thing but acting another way\n",
    "Your friends tell me I'm always on your mind\n",
    "While you're making excuses to stay behind\n",
    "And it drives me crazy, drives me insane\n",
    "I can't move forward, can't look away\n",
    "\n",
    "## Outro:\n",
    "So tell me straight, what's it gonna be?\n",
    "'Cause these mixed signals are killing me\n",
    "\n",
    "\n",
    "This song captures the frustration of being caught in emotional limbo with someone who's giving contradictory signals. The lyrics highlight how he's expressing interest through his friends and social media behavior while simultaneously creating barriers with the \"long-distance\" excuse.\n",
    "\n",
    "If you'd like, I could adjust the tone to be more angry, wistful, or even add some humor. I could also help with suggesting a melody style that might work well with these lyrics or modify any specific parts that don't quite capture how you're feeling. What do you think?"
   ]
  },
  {
   "cell_type": "markdown",
   "id": "d919455f-5a9d-4d22-9045-6d481505fd21",
   "metadata": {},
   "source": [
    "#### Prompt \n",
    "this is great! I think we need to make it slightly longer. i unfortunately am someone whos thought about and dreamed my wedding day and being in love since i was very young. im very independent and honestly have never sat around wanting a boyfriend, but when it comes to finding the perfect person, i take it seriously. this boy is the one that checks the boxes, and how perfect that he feels the same way about me. i mean if he tells all his male friends and they feel the need to tell me, what does that say, you know? So yeah just a little longer and with a melody\n"
   ]
  },
  {
   "cell_type": "markdown",
   "id": "315d7a17-a7e4-4f72-9cca-b6b45e6def4f",
   "metadata": {},
   "source": [
    "#### Response \n",
    "I'm glad you like it! Let's expand the song and add more about your perspective on finding someone who checks all your boxes, especially when you've dreamed about finding the right person for so long. I'll add a new verse and expand the bridge to reflect these deeper feelings.\n",
    "\n",
    "\n",
    "\n",
    "# Mixed Signals\n",
    "\n",
    "## Melody Note\n",
    "The melody follows a contemporary pop ballad style with emotional builds. Think moderate tempo (around 80-90 BPM) with gentle verses that build intensity into the choruses. The verses use a descending melody pattern, while the chorus has a more rhythmic, emphatic delivery on \"drives me crazy.\" The bridge should be delivered with vulnerability before building back to the final powerful chorus.\n",
    "\n",
    "## Verse 1:\n",
    "He tells his friends I'm on his mind\n",
    "First to like my posts every time\n",
    "Perfect on paper, that's what they say\n",
    "But he keeps me at arm's length anyway\n",
    "Says distance is the reason why\n",
    "But I can see it in his eyes\n",
    "\n",
    "## Chorus:\n",
    "You're sending mixed signals my way\n",
    "Saying one thing but acting another way\n",
    "Your friends tell me I'm always on your mind\n",
    "While you're making excuses to stay behind\n",
    "And it drives me crazy, drives me insane\n",
    "I can't move forward, can't look away\n",
    "\n",
    "## Verse 2:\n",
    "Tension fills the air when we meet\n",
    "Your guard slips down, I feel the heat\n",
    "You call me perfect for you, it's true\n",
    "But perfect guys don't make you wait like you do\n",
    "I'm right here where you can find me\n",
    "But you won't cross that line, you see\n",
    "\n",
    "## Verse 3:\n",
    "Since I was young, I've dreamed of love\n",
    "The perfect day, the perfect one\n",
    "I never thought I'd be the girl\n",
    "Waiting around, in this swirl\n",
    "Of maybe someday, might be true\n",
    "Still I can't stop thinking of you\n",
    "\n",
    "## Bridge:\n",
    "My friends say don't wait around\n",
    "For someone who knows where you can be found\n",
    "But my heart won't listen to reason\n",
    "When it comes to you, I'm in too deep\n",
    "\n",
    "All the boxes checked, everything aligned\n",
    "The same culture, same dreams, one of a kind\n",
    "If your friends all know what's in your heart\n",
    "Why won't you be brave and make a start?\n",
    "\n",
    "## Chorus:\n",
    "You're sending mixed signals my way\n",
    "Saying one thing but acting another way\n",
    "Your friends tell me I'm always on your mind\n",
    "While you're making excuses to stay behind\n",
    "And it drives me crazy, drives me insane\n",
    "I can't move forward, can't look away\n",
    "\n",
    "## Final Chorus (with intensity):\n",
    "You're sending mixed signals my way\n",
    "I've dreamed of forever since I was young\n",
    "Your friends say I'm the perfect one for you\n",
    "So why am I left wondering what to do?\n",
    "It drives me crazy, drives me wild\n",
    "These mixed signals are killing me now\n",
    "\n",
    "## Outro:\n",
    "So tell me straight, what's it gonna be?\n",
    "'Cause girl like me won't wait eternally\n",
    "I know my worth, know what I need\n",
    "These mixed signals are killing me\n",
    "\n",
    "\n",
    "I've expanded the song with a new third verse about your lifelong dreams of finding love and added more depth to the bridge about how this situation is especially challenging because he truly does check all your boxes. \n",
    "\n",
    "For the melody, I've suggested a contemporary pop ballad style that builds emotional intensity throughout the song. The melody would start somewhat restrained in the verses, build emotion in the pre-chorus, and then reach its emotional peak in the chorus with the \"drives me crazy\" line being particularly emphasized.\n",
    "\n",
    "The new final chorus has a slight lyrical variation to bring everything to an emotional conclusion, and the outro has a stronger sense of self-worth and ultimatum that shows your independent spirit.\n",
    "\n",
    "Would you like me to adjust anything about the lyrics or melody suggestion? I could also suggest chord progressions if you play an instrument or are working with a musician!"
   ]
  },
  {
   "cell_type": "markdown",
   "id": "dc6e86b5-d878-4b63-8b0c-b3d7c26d1954",
   "metadata": {},
   "source": [
    "#### Prompt \n",
    "can you produce a file of the song?"
   ]
  },
  {
   "cell_type": "markdown",
   "id": "87d64019-e4f3-45e5-92c2-e01c2edf7c94",
   "metadata": {},
   "source": [
    "#### Response \n",
    "I can't produce an actual audio file of the song, but I can provide you with more detailed musical guidance for how the song might be performed. This would include chord progressions, tempo suggestions, and more specific melody notes that could help you or a musician bring this song to life.\n",
    "\n",
    "Would you like me to:\n",
    "\n",
    "1. Provide chord progressions and more detailed musical notation instructions?\n",
    "2. Create a more detailed structure with specific key signature recommendations?\n",
    "3. Offer guidance on vocal delivery techniques for different sections?\n",
    "\n",
    "While I can't generate an actual audio file or recording, these details would give you a much clearer blueprint for how the song could sound when performed. Let me know what would be most helpful!"
   ]
  },
  {
   "cell_type": "markdown",
   "id": "3b1ad3c5-a6b4-4600-9e00-251fd38c7df3",
   "metadata": {},
   "source": [
    "![](mixed.svg)"
   ]
  },
  {
   "cell_type": "markdown",
   "id": "d3dd17de-e942-44c5-aee1-6f983a37a8ef",
   "metadata": {},
   "source": [
    "### My Commentary\n",
    "I honestly think that Claude did a pretty good job at this task. After explaining my dramatized situation to the LLM, it was able to produce a pretty emotional/heartfelt song that could not, at least in my opinion, be pointed out for being created by an LLM. However, I noticed that when it came to the visual representations, Claude only produces SVG files that aren't nearly as detailed, artistic, or enhanced as ChatGPT4o's images. The SVG graphics, while functional, lack the richness and complexity that more advanced image generation models can create. Yet, it doesn't completely take away from the song produced. The lyrics captured the raw emotion and specific nuances of my situation in a way that felt authentic and relatable, showing that AI can understand and articulate complex human feelings effectively."
   ]
  }
 ],
 "metadata": {
  "citation-manager": {
   "items": {}
  },
  "kernelspec": {
   "display_name": "Python 3-12 (COMM4190)",
   "language": "python",
   "name": "python3-12_comm4190"
  },
  "language_info": {
   "codemirror_mode": {
    "name": "ipython",
    "version": 3
   },
   "file_extension": ".py",
   "mimetype": "text/x-python",
   "name": "python",
   "nbconvert_exporter": "python",
   "pygments_lexer": "ipython3",
   "version": "3.12.8"
  }
 },
 "nbformat": 4,
 "nbformat_minor": 5
}
