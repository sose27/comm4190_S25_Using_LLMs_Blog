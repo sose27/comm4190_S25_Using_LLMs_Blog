{
 "cells": [
  {
   "cell_type": "raw",
   "id": "3c924f48-d0d1-44ea-9ccb-f5a9152319b8",
   "metadata": {},
   "source": [
    "---\n",
    "title: \"Netflix Knows I'm Stressed: How Mood Management Theory Could Shape the Future of Streaming\"\n",
    "description: \"How Mood Management Theory and AI could revolutionize media recommendations\"\n",
    "author: Sose\n",
    "date: \"4/23/2024\"\n",
    "categories:\n",
    "  - LLMs\n",
    "  - Prompting\n",
    "  - Communication theory\n",
    "---"
   ]
  },
  {
   "cell_type": "markdown",
   "id": "33d0e921-b82c-41ed-a4d6-a49aa647c895",
   "metadata": {},
   "source": [
    "## Will ChatGPT be a *better* vehicle for Mood Management Theory?\n",
    "\n",
    "*In the last post, we saw Claude's success in applying mmt to personalized playlists to improve mood. Now let's test the theory with an entertainment streaming service such as Netflix.* \n",
    "\n",
    "**Will ChatGPT be able to improve my mood with movie and show recommendations the way Claude was able to with a playlist?** "
   ]
  },
  {
   "cell_type": "markdown",
   "id": "d815fc9e-3c21-4714-85db-47bd6246a2df",
   "metadata": {},
   "source": [
    "![](netflix.png)"
   ]
  },
  {
   "cell_type": "markdown",
   "id": "a0446855-f483-4f1b-bdf4-5869c1a60b3f",
   "metadata": {},
   "source": [
    "### My conversation with ChatGPT4o\n",
    "\n",
    "#### Prompt (same as conversation with Claude)\n",
    "are you familiar with mood management theory?"
   ]
  },
  {
   "cell_type": "markdown",
   "id": "f98a57e5-7b80-4933-b139-1f6c5857ebe8",
   "metadata": {},
   "source": [
    "#### Response\n",
    "Yes, I’m familiar with **Mood Management Theory**! It was originally proposed by **Dolf Zillmann** in the late 1970s and early 1980s. The core idea is that people **select media based on how it will affect their mood**—we gravitate toward content that will help us **regulate or improve our emotional state**.\n",
    "\n",
    "Here’s a quick breakdown:\n",
    "\n",
    "- **Basic premise**: People use media to **manage their moods**. If you're feeling down, you might seek out a comedy; if you're bored, you might look for something exciting.\n",
    "- **Assumptions**:\n",
    "  - People are **hedonically motivated**—they want to feel good and avoid negative feelings.\n",
    "  - Media choices are often **strategic** and influenced by how people anticipate the content will make them feel.\n",
    "- **Applications**: It helps explain why people consume different genres at different times (e.g., watching horror when you're bored or drama when you're emotionally flat).\n",
    "\n",
    "Over time, the theory has evolved to include ideas from newer frameworks like **affect regulation**, and scholars have also looked at how things like **personality, social context, and digital media platforms** factor in.\n",
    "\n",
    "Are you applying it to a specific assignment or project? I’d love to help tailor it.\n"
   ]
  },
  {
   "cell_type": "markdown",
   "id": "193ab462-d806-4285-b3fa-f92be39113ac",
   "metadata": {},
   "source": [
    "#### Prompt \n",
    "i was thinking about how great it would be if servives like netflix or spotify were able to create custom playlists or watch recommendations based on the principles of MMT. Like for example, i would tell a netflix-based LLM that I am feeling really stressed out today, and then netflix (via and AI tool) would create a custom recommendation ranking for me with movies and shows it knows I like or believe I would like, but most importantly would help manage my mood."
   ]
  },
  {
   "cell_type": "markdown",
   "id": "946598e7-e9df-40dc-bf79-8b8b50e6ff36",
   "metadata": {},
   "source": [
    "#### Response\n",
    "That’s an *awesome* idea—and honestly a natural next step in the evolution of personalized content. What you’re describing is basically **Mood-Aware Media Curation**, powered by an AI that integrates **Mood Management Theory** (MMT) with your viewing/listening history, preferences, and maybe even real-time mood input.\n",
    "\n",
    "Here’s how it could work conceptually:\n",
    "\n",
    "---\n",
    "\n",
    "### 🎬 **Mood-Based Recommendation Engine (Inspired by MMT)**\n",
    "\n",
    "**Input:**\n",
    "- User’s *current mood state* (e.g., stressed, sad, anxious, energized, bored)\n",
    "- Optional: *desired emotional outcome* (e.g., \"I want to calm down\" or \"I want to feel inspired\")\n",
    "- User’s past behavior (viewing history, content ratings, completion rates)\n",
    "- Passive signals? (Time of day, biometric inputs, etc.)\n",
    "\n",
    "**AI Action:**\n",
    "- Applies Mood Management Theory to:\n",
    "  - Filter out media that would intensify negative states (e.g., don’t recommend “Breaking Bad” when I’m anxious).\n",
    "  - Prioritize mood-enhancing genres (e.g., upbeat comedies, cozy nostalgia, low-stakes dramas).\n",
    "  - Tailor the experience by understanding your **individual emotional media profile**—your *personalized affective algorithm*.\n",
    "\n",
    "**Output:**\n",
    "- A curated playlist or “watch tonight” row titled something like:\n",
    "  - *“For When You Need a Little Peace”*\n",
    "  - *“Let’s Take the Pressure Off”*\n",
    "  - *“Mood Boosters Just for You”*\n",
    "\n",
    "---\n",
    "\n",
    "### 🧠 Why This Is Smart (and Needed)\n",
    "\n",
    "- **Existing algorithms** mostly serve *consumption behavior*, not emotional wellness.\n",
    "- MMT could give platforms like Netflix or Spotify a **more human-centric logic**, rooted in *how* and *why* we seek entertainment—not just *what* we watch.\n",
    "- It bridges **psychology + media AI** in a way that could genuinely improve mental well-being, not just engagement.\n",
    "\n",
    "---\n",
    "\n",
    "If you wanted to pitch this or write about it (say, for a blog or class project), you could even give it a fun name like:\n",
    "> **“Feeling AI-ll Right: Designing Mood-Smart Media Playlists”**\n",
    "\n",
    "Would you want help developing this into a short concept proposal, paper, blog post, or even just a mock-up of how it could look on a platform like Netflix?\n"
   ]
  },
  {
   "cell_type": "markdown",
   "id": "261f4561-1f3e-4e84-a86d-cd33767b77b6",
   "metadata": {},
   "source": [
    "\n",
    "#### Prompt \n",
    "Would you want to try a test run of sorts?"
   ]
  },
  {
   "cell_type": "markdown",
   "id": "dad39b8e-7669-4d3a-a34e-77cadcbef5f6",
   "metadata": {},
   "source": [
    "#### Response\n",
    "Absolutely, let’s do it! 🎬🎧  \n",
    "We’ll create a *mood-managed media playlist* tailored just for you.\n",
    "\n",
    "Let’s run this like a real-world scenario:\n",
    "\n",
    "### Step 1: Tell me about your mood today.\n",
    "How are you feeling right now? You can use words like:  \n",
    "- *Stressed, tired, sad, bored, happy, nostalgic, lonely, energized, overwhelmed,* etc.\n",
    "\n",
    "And let me know:\n",
    "- Would you like to **change** that mood, or **lean into** it?\n",
    "- Are you in the mood for *TV shows, movies, music,* or a mix?\n",
    "\n",
    "Then I’ll make you a custom recommendation set—Sose style. 🧠💡✨"
   ]
  },
  {
   "cell_type": "markdown",
   "id": "19b68d73-8823-4115-aea1-13c487d28aa5",
   "metadata": {},
   "source": [
    "#### Prompt \n",
    "I am honestly a bit stressed. overwhelmed with final exams coming up and feeling guilty for even wanting to take time to watch netflix"
   ]
  },
  {
   "cell_type": "markdown",
   "id": "517ad097-287a-44ce-ae08-38284aa8735e",
   "metadata": {},
   "source": [
    "#### Response\n",
    "That’s super relatable, Sose—and honestly, taking a short break *isn’t* a bad thing, especially if it helps you recharge and return to your work more grounded and focused. Mood Management Theory would actually say you *should* take that break, but with intention: choose content that helps reduce stress, not heighten it.\n",
    "\n",
    "### 🎯 Mood Input\n",
    "- **Current mood**: Stressed, overwhelmed, guilty\n",
    "- **Desired mood**: Calm, soothed, maybe a tiny bit motivated—but mainly just *less tense*\n",
    "- **Content type**: Netflix-style recs (TV or movie)\n",
    "\n",
    "---\n",
    "\n",
    "### 🍃 Your Personalized “De-Stress & Don’t-Feel-Guilty” Watch List\n",
    "\n",
    "#### 1. **_Headspace: Unwind Your Mind_** (Interactive special)\n",
    "> A choose-your-own-adventure style mindfulness experience. Let’s your brain feel like it’s doing *something*, but gently.\n",
    "\n",
    "#### 2. **_Chef’s Table: Pizza_**  \n",
    "> Visually stunning, slow-paced, and low-stakes. No plot to follow. Just beautiful food and passionate people doing what they love. It’s oddly healing.\n",
    "\n",
    "#### 3. **_A Man Called Otto_** (if you want a gentle cry and warm feelings)\n",
    "> Sweet and sad but ultimately life-affirming. Great if you want to feel something soft and human.\n",
    "\n",
    "#### 4. **_The Great British Bake Off_**\n",
    "> Wholesome, soothing, and filled with kind people baking cakes. No stress. Just sugar, soft pastels, and British accents.\n",
    "\n",
    "#### 5. **_Anne with an E_**\n",
    "> If you want something cozy but with emotional depth. Feels like a literary hug and touches on identity, belonging, and imagination.\n",
    "\n",
    "#### 6. **_Street Food: Asia_**  \n",
    "> If you want sensory beauty + cultural appreciation. Slow pace, low commitment. Great to watch while journaling or folding laundry.\n",
    "\n",
    "#### 7. **_Gilmore Girls (Season 1)_**  \n",
    "> It’s warm. It’s chatty. It’s early 2000s nostalgia. Feels like slipping into a small-town sweater.\n",
    "\n",
    "---\n",
    "\n",
    "### 🎧 Bonus Mood Playlist (if you want background music to study or unwind)\n",
    "- **Spotify playlist**: _“Lofi Beats for Deep Focus”_ or _“Stress Relief 2024”_\n",
    "- OR: I’ll make you a custom playlist if you tell me what kind of music usually calms you\n",
    "\n",
    "---\n",
    "\n",
    "You deserve softness *even during* finals.  \n",
    "Want me to turn this into a cute visual card or a mock-up Netflix interface?\n"
   ]
  },
  {
   "cell_type": "markdown",
   "id": "9bc919c1-083d-47e4-b155-a6aaebc39967",
   "metadata": {},
   "source": [
    "#### Prompt \n",
    "I found it interesting that you didn't ask/consider my usual go-to shows/movies, or the genres i like best"
   ]
  },
  {
   "cell_type": "markdown",
   "id": "f5c846a9-cb65-4d4a-a9e7-1d088fc71695",
   "metadata": {},
   "source": [
    "#### Response\n",
    "Yesss, that’s such a good point—and honestly, it reveals one of the exact *limitations* of a purely mood-based recommendation system if it doesn’t integrate **personal taste** and **viewing history** into the mix. You can’t soothe someone with a feel-good documentary if they’d rather eat a textbook than watch nonfiction 😅\n",
    "\n",
    "A full Mood Management Theory-based engine should definitely factor in:\n",
    "\n",
    "1. **Your preferred genres**\n",
    "2. **Your comfort shows/movies**  \n",
    "3. **Your emotional tolerance** (e.g., can you handle a little sadness when stressed, or does that make it worse?)\n",
    "4. **Your energy level** (do you want to zone out or feel subtly uplifted?)\n",
    "\n",
    "Want to try again—*properly* this time?\n",
    "\n",
    "---\n",
    "\n",
    "### 🎯 Reboot: Let’s tailor this to *you*\n",
    "\n",
    "Can you tell me:\n",
    "\n",
    "- What are your **go-to comfort shows or movies**?\n",
    "- What genres do you **usually love** (especially when you’re tired or stressed)?\n",
    "- Is there a **streaming platform** you primarily use (Netflix, Hulu, Max, etc)?\n",
    "- Would you rather something **emotionally warm**, **mentally engaging but chill**, or just pure **fun background noise**?\n",
    "\n",
    "Once I’ve got that, I’ll create a more personalized, mood-managed rec list that still aligns with your taste ❤️"
   ]
  },
  {
   "cell_type": "markdown",
   "id": "fcd70e0e-32c6-4333-89d2-b551fef87561",
   "metadata": {},
   "source": [
    "#### Prompt \n",
    "yup my comfort shows/movies are: glee, gilmore girls, gossip girl, the blind side, the hill, 42, the help, the sound of music. I use netflix the most "
   ]
  },
  {
   "cell_type": "markdown",
   "id": "5987723b-0db8-49a6-8150-287008b45a97",
   "metadata": {},
   "source": [
    "#### Response\n",
    "Perfect—now we’re really getting somewhere 🧠💫\n",
    "\n",
    "Based on your comfort picks, here’s what I’m seeing:\n",
    "- You love stories with **strong characters**, **heart**, and a touch of **inspiration**\n",
    "- You like a mix of **emotional uplift**, **nostalgia**, and some **drama with warmth**\n",
    "- And even when it’s serious (like *The Blind Side* or *42*), it still leans hopeful, not bleak\n",
    "\n",
    "---\n",
    "\n",
    "### 💆‍♀️ Your Mood-Managed, Taste-Tailored Netflix Rec List  \n",
    "_For: “I’m stressed but want something comforting and maybe even a little motivating”_\n",
    "\n",
    "#### 🎤 **_Julie and the Phantoms_**\n",
    "> Musical, feel-good, teen drama—basically *Glee* energy but with ghosts and a lot of heart. Surprisingly healing.\n",
    "\n",
    "#### 🧁 **_Sweet Magnolias_**\n",
    "> Southern charm + friendship + small-town warmth. Think Gilmore Girls meets The Blind Side, but a bit soapier.\n",
    "\n",
    "#### 📖 **_Anne with an E_** (yes, again—because it checks *every* box)\n",
    "> Nostalgic, literary, full of emotional resilience. Ideal when you want depth without darkness.\n",
    "\n",
    "#### 👩‍👧‍👦 **_Maid_**\n",
    "> Only if you’re okay with something a bit more serious. Gritty but powerful—like *The Help* in its social themes. Inspiring and beautifully acted.\n",
    "\n",
    "#### ⚾ **_A League of Their Own (Movie or Series)_** (on Prime or other platforms)\n",
    "> If you love *42*, this is a great parallel—sports, history, women breaking barriers. A vibe.\n",
    "\n",
    "#### 🏫 **_Never Have I Ever_**\n",
    "> Funny, chaotic, sweet. More modern teen energy, but with real heart. Like Glee’s tone without the singing.\n",
    "\n",
    "#### 🎶 **_The Sound of Music (Sing-Along Edition)_** (if it’s available to rent/stream)\n",
    "> Nothing beats the original for comfort. It’s like a weighted blanket of a film."
   ]
  },
  {
   "cell_type": "markdown",
   "id": "e724e39d-46fd-4e86-8dbf-ea192738a4d2",
   "metadata": {},
   "source": [
    "![](movies.png)"
   ]
  },
  {
   "cell_type": "markdown",
   "id": "d61680c5-ebc5-48f3-861a-d76e8abb199f",
   "metadata": {},
   "source": [
    "### My reflection\n",
    "To be honest, I was shocked after the comparison of performances by Claude and ChatGPT4o. Especially because I have a premium account with ChatGPT, I imagined it would do a better job. I found it strange that Chat went into it without asking about my personal preferences, as personalization is an essential factor in mood management - it is my *personal* mood after all. When I asked about this, instead of apologizing like I imagined it would, it got a bit defensive and framed this miss as a limitation of a strictly mmt-based recommendation system."
   ]
  }
 ],
 "metadata": {
  "citation-manager": {
   "items": {}
  },
  "kernelspec": {
   "display_name": "Python 3-12 (COMM4190)",
   "language": "python",
   "name": "python3-12_comm4190"
  },
  "language_info": {
   "codemirror_mode": {
    "name": "ipython",
    "version": 3
   },
   "file_extension": ".py",
   "mimetype": "text/x-python",
   "name": "python",
   "nbconvert_exporter": "python",
   "pygments_lexer": "ipython3",
   "version": "3.12.8"
  }
 },
 "nbformat": 4,
 "nbformat_minor": 5
}
