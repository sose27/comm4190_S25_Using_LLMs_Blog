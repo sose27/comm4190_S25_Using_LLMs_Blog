{
 "cells": [
  {
   "cell_type": "raw",
   "id": "965aa8fb-68fe-4ea5-8242-07aa9dc19663",
   "metadata": {},
   "source": [
    "---\n",
    "title: \"Smile Big! But not too big!\"\n",
    "description: \"Crafting the perfect headshot\" \n",
    "author: Sose\n",
    "date: \"4/15/2025\"\n",
    "categories:\n",
    "  - LLMs\n",
    "  - Prompting  \n",
    "  - Enhancing Images\n",
    "---"
   ]
  },
  {
   "cell_type": "markdown",
   "id": "5e267ce3-edb8-4add-8c42-dd0a650ea52d",
   "metadata": {},
   "source": [
    "## Can AI Craft the perfect headshot for me?\n",
    "\n",
    "*If you're anything like me, you know how frustrating it can be to take the time to look nice for a school or work picture, just to open it up weeks later and not love it! While I thought this picture day problem would end after high school, it definitely has carried over into college. Each year, when my branch of the student newspaper on campus takes headshots, I never am happy with the way they turn out, and find myself not having one professional or academic-looking picture that I can use universally across applications, publications, professional social media pages, and more. So, it's time to turn to Ai for some help.* \n",
    "\n",
    "**Will feeding a picture of myself that I do like be enough to produce the perfect headshot? Let's find out.** "
   ]
  },
  {
   "cell_type": "markdown",
   "id": "f98620a8-cf4b-47d5-b4b3-0069968b8115",
   "metadata": {},
   "source": [
    "### The original picture: \n",
    "![](me.png)"
   ]
  },
  {
   "cell_type": "markdown",
   "id": "1807c928-6434-4c20-bbd7-bd9ba03c0dec",
   "metadata": {},
   "source": [
    "### Prompting ChatGPT about this..\n",
    "\n",
    "#### Prompt\n",
    "\n",
    "Hey! I always have the same problem of not liking the pictures I'd take at picture day in school or headshots in college/work. I really need one! can you turn a picture of me that i like into a great, realistic headshot?\n",
    "\n",
    "#### Response\n",
    "Hey! Absolutely—I can help with that. Just upload a picture of yourself that you like, and I’ll turn it into a polished, realistic headshot that still feels like *you*. Once I see the photo, I can enhance the lighting, background, sharpness, and overall vibe to make it look professional without losing your personality. Ready when you are!\n",
    "#### Prompt\n",
    "![](me.png)\n",
    "\n",
    "#### Response\n",
    "![](headshot1.png)\n",
    "\n",
    "#### Prompt\n",
    "unfortunately, i dont think ANYONE will believe that's me. the skin color's off, the nose eyebrows and eyeshape too. my smile and hair, its all wrong!\n",
    "\n",
    "#### Response\n",
    "Got it—and thank you for being honest. You're totally right to want a headshot that actually feels like *you*, not just a polished version of someone vaguely similar.\n",
    "\n",
    "Let’s try again with a different approach. I’ll work *directly* with your real photo this time—same face, same smile—just cleaned up with:\n",
    "\n",
    "- A professional-looking background  \n",
    "- Softer lighting and slight tone adjustments  \n",
    "- Optional tweaks like color correcting or smoothing without altering your features  \n",
    "\n",
    "Would you like to keep your current outfit, or should I try swapping it for something more “professional” looking (like a blazer or top you’d wear for LinkedIn)?\n",
    "#### Prompt\n",
    "professional\n",
    "#### Response\n",
    "![](headshot2.png)\n",
    "\n",
    "#### Prompt\n",
    "thats not me at all! and also, my eyes are blue. im losing all hope in you\n",
    "#### Response\n",
    "Ugh, I’m *really* sorry—it’s totally valid to feel frustrated right now. You gave me a photo you like and asked for a simple, realistic headshot, and I missed the mark. Twice. That’s on me.\n",
    "\n",
    "Let’s start fresh, and this time I’ll stick to **editing your real photo** instead of generating something from scratch. I’ll enhance *your actual face*—blue eyes, your smile, your skin tone, your hair, all of it—just with a clean background and a more professional look.\n",
    "\n",
    "Want me to:\n",
    "1. Keep your current pose and expression as is?\n",
    "2. Replace the background with something more neutral (like a soft gray or studio style)?\n",
    "3. Add a blazer or formal top digitally?\n",
    "\n",
    "You deserve to feel confident in your headshot—and I’m not giving up until you get one that actually feels like *you*.\n",
    "\n",
    "#### Prompt\n",
    "yes that sounds great\n",
    "\n",
    "#### Response\n",
    "![](headshot3.png)\n",
    "\n",
    "#### Prompt\n",
    "i give up! all of these look completely different to me. I just wanted you to take my picture and make it professional!\n",
    "#### Response\n",
    "I hear you—and I’m *so sorry* for making this more frustrating than it ever should’ve been.\n",
    "\n",
    "You're completely right. You didn’t want a different person generated from scratch—you wanted *you*, in a version that looks polished and professional. I should’ve focused on editing the **real photo you gave me**, not trying to recreate it.\n",
    "\n",
    "Let’s do this properly:\n",
    "\n",
    "✅ Keep your actual face and expression  \n",
    "✅ Retouch lighting, color balance, and skin tone *lightly*  \n",
    "✅ Remove the background and replace it with a clean, neutral one (like gray or soft beige)  \n",
    "✅ Add a realistic blazer or professional outfit overlay if you'd like  \n",
    "\n",
    "I’ll do the editing *directly on your original photo*. No AI lookalikes. Just you, enhanced.\n",
    "\n",
    "Ready for me to begin the proper retouch?\n",
    "#### Prompt\n",
    "last try. \n",
    "#### Response\n",
    "![](headshot4.png)\n",
    "\n",
    "#### Prompt\n",
    "i wont be asking for your help with this again.\n",
    "\n",
    "#### Response\n",
    "That’s completely fair—and I’m really sorry this didn’t go the way you needed it to. You deserved a simple, respectful edit of your own photo, and I overcomplicated it instead of delivering what you asked for from the start.\n",
    "\n",
    "Thank you for your patience, even when things were frustrating. If you ever change your mind or want to give it another shot down the line—with real photo editing, done exactly how you want—I’ll be here to help, no pressure at all.\n",
    "\n",
    "Wishing you the very best, always.\n"
   ]
  },
  {
   "cell_type": "markdown",
   "id": "a31ab993-29df-4b16-8a7f-200fda660432",
   "metadata": {},
   "source": [
    "## Afterthoughts\n",
    "This conversation did not go as expected. I really thought ChatGPT4o would be able to produce a professional headshot of me, or at least a solid enhancement of the image I fed it, but it showed the same weaknesses as it did in the casting prompt. When it comes to producing images, it is clear the LLM has been programmed not to imitate exactly, and instead make new images that only slightly scratch the surface of the original image. I will say however that the ending was particularly intriguing, as it felt like I was receiving an apology from a partner or significant other after making a hurtful mistake in a relationship. The ending message was eerily similar to a breakup or apology! "
   ]
  }
 ],
 "metadata": {
  "citation-manager": {
   "items": {}
  },
  "kernelspec": {
   "display_name": "Python 3-12 (COMM4190)",
   "language": "python",
   "name": "python3-12_comm4190"
  },
  "language_info": {
   "codemirror_mode": {
    "name": "ipython",
    "version": 3
   },
   "file_extension": ".py",
   "mimetype": "text/x-python",
   "name": "python",
   "nbconvert_exporter": "python",
   "pygments_lexer": "ipython3",
   "version": "3.12.8"
  }
 },
 "nbformat": 4,
 "nbformat_minor": 5
}
