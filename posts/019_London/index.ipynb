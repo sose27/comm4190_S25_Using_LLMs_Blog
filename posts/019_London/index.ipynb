{
 "cells": [
  {
   "cell_type": "raw",
   "id": "b2691a2c-e8ea-4183-88ac-8329eddd2cb8",
   "metadata": {},
   "source": [
    "---\n",
    "title: \"Planning the perfect trip to London!\"\n",
    "description: \"Can ChatGPT produce a solid itinerary for a weekend in London?\"\n",
    "author: Sose\n",
    "date: \"4/28/2025\"\n",
    "categories:\n",
    "  - LLMs\n",
    "  - Advice\n",
    "  - Travel\n",
    "---"
   ]
  },
  {
   "cell_type": "markdown",
   "id": "c54b0904-dd85-47ac-8a42-212b5b834b67",
   "metadata": {},
   "source": [
    "## Will ChatGPT be the perfect tour guide?\n",
    "\n",
    "*Usually before trips, I spend a lot of time on the web planning the perfect itinerary. I take into consideration every neighborhood, sight, park, restaurant, and place I want to see and really make the effort to coordinate a schedule that allows me to see everything. Last semester I studied abroad in London, England, and made multiple weekend itineraries every time I had a visitor. Knowing what I know now, I want to see if chatGPT can do better than me!* \n",
    "\n",
    "**What will ChatGPT depict as the perfect weekend in London?** "
   ]
  },
  {
   "cell_type": "markdown",
   "id": "ecb3c979-5560-48ab-9f41-dd37f5bed148",
   "metadata": {},
   "source": [
    "![](london.png)"
   ]
  },
  {
   "cell_type": "markdown",
   "id": "e8019e7b-5038-408e-865d-08fd6134eed4",
   "metadata": {},
   "source": [
    "### The Conversation with ChatGPT4o\n",
    "\n",
    "#### Prompt \n",
    "Hi! I am going to london next weekend and need help planning a 3 day itinerary. here are some guiding points:\n",
    "\n",
    "- staying in south kensington / gloucester road area\n",
    "- definitely want to check out selfridges and fortnum and mason\n",
    "- want to try Supernova smashburgers and the best fish and chips at a classic pub\n",
    "- want to watch a west end show\n",
    "\n",
    "the rest is up to you!"
   ]
  },
  {
   "cell_type": "markdown",
   "id": "1a0683dd-dc0b-462d-9605-b014b310d541",
   "metadata": {},
   "source": [
    "#### Response\n",
    "Yay, how exciting!! London is such a blast—here’s a 3-day itinerary that mixes your must-dos with some iconic sights, a few hidden gems, and easy routes from South Kensington:\n",
    "\n",
    "---\n",
    "\n",
    "### 🗓 **Day 1: Classic London + West End Night**\n",
    "**Morning:**\n",
    "\n",
    "- Grab a coffee & quick bite at *Gail’s Bakery* near Gloucester Road to start your day.\n",
    "- Head to **Westminster**: see Big Ben, Westminster Abbey, and the Houses of Parliament.\n",
    "- Walk over Westminster Bridge for a great view/photo op of the **London Eye** (you can ride it if you want, but it's a bit touristy).\n",
    "\n",
    "**Lunch:**\n",
    "\n",
    "- *Supernova Smashburgers* in Soho — it's walkable from Westminster (about 25 mins) or a short tube ride.\n",
    "\n",
    "**Afternoon:**\n",
    "\n",
    "- Stroll around **Covent Garden** — great vibes, shops, street performers.\n",
    "- Explore **Seven Dials** for cool boutiques and coffee spots.\n",
    "\n",
    "**Evening:**\n",
    "\n",
    "- Dinner at a gastropub near Covent Garden (*The Ivy Market Grill* is fun, but if you want a more classic pub, *The Lamb & Flag* is iconic).\n",
    "- Catch a **West End show**! Book in advance—recommendations:\n",
    "  - *Mamma Mia* (feel-good vibes)\n",
    "  - *Cabaret* (immersive experience)\n",
    "  - *Les Misérables* (classic and powerful)\n",
    "\n",
    "---\n",
    "\n",
    "### 🗓 **Day 2: Shopping + British Icons**\n",
    "\n",
    "**Morning:**\n",
    "\n",
    "- Breakfast at *Muriel’s Kitchen* in South Ken.\n",
    "- Take the tube to **Oxford Street** → Start at **Selfridges** and explore the flagship.\n",
    "- Walk down to **Liberty London** (gorgeous Tudor-style store) and **Carnaby Street**.\n",
    "\n",
    "**Lunch:**\n",
    "\n",
    "- Pop into *Dishoom* Carnaby for modern Bombay comfort food in a gorgeous space.\n",
    "\n",
    "**Afternoon:**\n",
    "\n",
    "- Head to **Fortnum & Mason** (Piccadilly)—take your time on every floor!\n",
    "- If you love tea, book an *afternoon tea* there or just enjoy their ice cream parlour or café.\n",
    "- Then walk through **St. James's Park** and up to **Buckingham Palace**.\n",
    "\n",
    "**Evening:**\n",
    "\n",
    "- Dinner in Soho or Chinatown—try *Kiln* for Thai or *BAO* for modern Taiwanese buns.\n",
    "\n",
    "---\n",
    "\n",
    "### 🗓 **Day 3: Museum Day + Fish & Chips**\n",
    "**Morning:**\n",
    "\n",
    "- Start your day with a walk to the **Victoria & Albert Museum** (literally in your neighborhood!). Option to also visit **Natural History Museum** next door.\n",
    "  \n",
    "**Lunch:**\n",
    "\n",
    "- Grab lunch at the V&A café (surprisingly stunning and good) or head to **Notting Hill** for a change of pace.\n",
    "\n",
    "**Afternoon:**\n",
    "\n",
    "- Explore **Portobello Road Market** (especially if it’s Saturday), or just wander Notting Hill’s pretty streets.\n",
    "\n",
    "**Late Afternoon / Early Dinner:**\n",
    "\n",
    "- Head to a *classic fish & chips pub*:\n",
    "  - *The Golden Hind* in Marylebone (great and no frills)\n",
    "  - *The Seashell of Lisson Grove* (well-known, big portions)\n",
    "  - *The Queen’s Arms* in South Ken (cosy and local!)\n",
    "\n",
    "**Evening:**\n",
    "\n",
    "- If you're up for it, end your trip with a cocktail at *Sky Garden* (free but requires a reservation) or drinks at *The Churchill Arms*—a pub covered in flowers and filled with Thai decor.\n",
    "\n",
    "---\n",
    "\n",
    "Would you like an interactive map with everything pinned, or maybe a cute PDF version of this itinerary for your trip? 😊"
   ]
  },
  {
   "cell_type": "markdown",
   "id": "e9134606-5299-41ba-8f7c-5901978b4060",
   "metadata": {},
   "source": [
    "#### Prompt\n",
    "an interactive map sounds great!"
   ]
  },
  {
   "cell_type": "markdown",
   "id": "07dc8082-cd7d-481b-9755-3448e2ff29ac",
   "metadata": {},
   "source": [
    "#### Response\n",
    "Here's your custom interactive map with all the main locations from your itinerary:\n",
    "[Interactive Map](LondonMap.html)\n",
    "\n",
    "Included pins:\n",
    "\n",
    "- Selfridges London\n",
    "- Fortnum & Mason\n",
    "- Supernova Smashburgers Soho\n",
    "- Lamb & Flag Pub\n",
    "- Covent Garden / Seven Dials\n",
    "- Victoria & Albert Museum\n",
    "- Natural History Museum\n",
    "- Portobello Road Market\n",
    "- The Golden Hind (fish & chips)\n",
    "- The Seashell of Lisson Grove (alt fish & chips)\n",
    "- The Queen’s Arms South Ken (closer option)\n",
    "- Sky Garden\n",
    "- The Churchill Arms\n",
    "- Dishoom Carnaby\n",
    "- Liberty London\n",
    "- Muriel’s Kitchen\n",
    "- Gail’s Bakery Gloucester Road\n",
    "- West End Theatre District (general pin)"
   ]
  },
  {
   "cell_type": "markdown",
   "id": "da599513-066b-45f1-8eea-15e0f9433b39",
   "metadata": {},
   "source": [
    "#### Prompt \n",
    "Thank you! Now a cute pdf version?"
   ]
  },
  {
   "cell_type": "markdown",
   "id": "3995c701-7a4b-4865-bcd8-db52c3561aae",
   "metadata": {},
   "source": [
    "#### Response \n",
    "![](map.png)"
   ]
  },
  {
   "cell_type": "markdown",
   "id": "94de7cb1-54e5-4710-ab58-b1404dc9bf5f",
   "metadata": {},
   "source": [
    "### My reflection\n",
    "I was very pleasantly surprised with this one! I think the LLM did a stellar job with the itinerary. Maybe I am biased because I was a huge Gail's fan all semester, but I am so glad it was included! It hit many hotspots and areas in London I would include in an itinerary of my own. Of course there are a few more things I would've included that are more specific to me and things I LOVED during my time in London (King's Road, Pavillion Road, Shoreditch, the Boltons, St. Yeghiche Armenian Church, Elizabeth Street, etc.) but for a general itinerary, it really fit in everything I asked for and more! I will definitely use ChatGPT's help when planning future trips! "
   ]
  },
  {
   "cell_type": "markdown",
   "id": "d042d497-3003-45f6-86d5-64eaa02c668b",
   "metadata": {},
   "source": [
    "![](3days.png)"
   ]
  }
 ],
 "metadata": {
  "citation-manager": {
   "items": {}
  },
  "kernelspec": {
   "display_name": "Python 3-12 (COMM4190)",
   "language": "python",
   "name": "python3-12_comm4190"
  },
  "language_info": {
   "codemirror_mode": {
    "name": "ipython",
    "version": 3
   },
   "file_extension": ".py",
   "mimetype": "text/x-python",
   "name": "python",
   "nbconvert_exporter": "python",
   "pygments_lexer": "ipython3",
   "version": "3.12.8"
  }
 },
 "nbformat": 4,
 "nbformat_minor": 5
}
