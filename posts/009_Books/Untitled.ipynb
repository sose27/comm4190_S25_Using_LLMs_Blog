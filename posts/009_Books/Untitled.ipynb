{
 "cells": [
  {
   "cell_type": "raw",
   "id": "69a90091-8322-4e21-a914-670fbce406a3",
   "metadata": {},
   "source": [
    "---\n",
    "title: \"Book Recs Please! Meet my personal librarian, her name is Chat!\"\n",
    "description: \"Asking an LLM for book recommendations\"\n",
    "author: Sose\n",
    "date: \"4/19/2024\"\n",
    "categories:\n",
    "  - LLMs\n",
    "  - prompting\n",
    "  - Advice\n",
    "---"
   ]
  },
  {
   "cell_type": "markdown",
   "id": "888b4af4-dc70-4615-becb-1bf092abf55b",
   "metadata": {},
   "source": [
    "## Can AI be my personal librarian? \n",
    "\n",
    "* After looking through multiple websites for new book recommendations based on past reads, I found nothing that really helped me organize my options in an organized way. So, as any gen-z person would do nowadays, I took to ChatGPT to help me come up with a list \n",
    "\n",
    "Find out what the LLM came up with below  "
   ]
  },
  {
   "cell_type": "code",
   "execution_count": null,
   "id": "004d81ef-3fea-4396-ae40-55bf96a6983d",
   "metadata": {},
   "outputs": [],
   "source": []
  }
 ],
 "metadata": {
  "citation-manager": {
   "items": {}
  },
  "kernelspec": {
   "display_name": "Python 3-12 (COMM4190)",
   "language": "python",
   "name": "python3-12_comm4190"
  },
  "language_info": {
   "codemirror_mode": {
    "name": "ipython",
    "version": 3
   },
   "file_extension": ".py",
   "mimetype": "text/x-python",
   "name": "python",
   "nbconvert_exporter": "python",
   "pygments_lexer": "ipython3",
   "version": "3.12.8"
  }
 },
 "nbformat": 4,
 "nbformat_minor": 5
}
