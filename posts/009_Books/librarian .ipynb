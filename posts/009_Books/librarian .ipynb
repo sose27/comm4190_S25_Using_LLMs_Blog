{
 "cells": [
  {
   "cell_type": "raw",
   "id": "69a90091-8322-4e21-a914-670fbce406a3",
   "metadata": {},
   "source": [
    "---\n",
    "title: \"Book Recs Please! Meet my personal librarian, her name is Chat!\"\n",
    "description: \"Asking an LLM for book recommendations\"\n",
    "author: Sose\n",
    "date: \"4/19/2025\"\n",
    "categories:\n",
    "  - LLMs\n",
    "  - Prompting\n",
    "  - Advice\n",
    "---"
   ]
  },
  {
   "cell_type": "markdown",
   "id": "888b4af4-dc70-4615-becb-1bf092abf55b",
   "metadata": {},
   "source": [
    "## Can AI be my personal librarian? \n",
    "\n",
    "*After looking through multiple websites for new book recommendations based on past reads, I found nothing that really helped me organize my options in an organized way. So, as any gen-z person would do nowadays, I took to ChatGPT to help me come up with a list* \n",
    "\n",
    "**Find out what the LLM came up with below** "
   ]
  },
  {
   "cell_type": "markdown",
   "id": "52c413fd-c868-47ba-9b75-894d70de3898",
   "metadata": {},
   "source": [
    "![](librarian.png)"
   ]
  },
  {
   "cell_type": "markdown",
   "id": "f253f046-a529-48ab-9651-f958c692fb17",
   "metadata": {},
   "source": [
    "### Prompting ChatGPT about this\n",
    "\n",
    "#### Prompt\n",
    "I need some help finding new book recommendations. Here is a list of books i've LOVED in the past\n",
    "\n",
    "- the human comedy by William Saroyan \n",
    "- of mice and men by john steinbeck\n",
    "- 1984 by george orwell\n",
    "- black dog of fate by peter balakian\n",
    "- number the stars by lois lowry\n",
    "- the bicycle rider of beverly hills by william saroyan \n",
    "- Kindred by octavia e butler"
   ]
  },
  {
   "cell_type": "markdown",
   "id": "c3b3c3df-de1b-42d0-a91e-d719c49e635a",
   "metadata": {},
   "source": [
    "#### Response\n",
    "You’ve got such a powerful mix of taste—emotionally rich, socially conscious, and deeply human stories. Based on what you’ve loved, here are some thoughtful recommendations across similar vibes:\n",
    "\n",
    "---\n",
    "\n",
    "##### **If you liked *The Human Comedy* or Saroyan in general:**\n",
    "- **“My Name Is Aram” by William Saroyan** – If you haven’t read this yet, it’s classic Saroyan: tender, funny, and full of immigrant identity and childhood wonder.\n",
    "- **“The Book of My Lives” by Aleksandar Hemon** – Memoir meets fiction, exploring exile, memory, and Sarajevo with the same poetic and emotional grit.\n",
    "\n",
    "---\n",
    "\n",
    "##### **If you liked *Of Mice and Men* or *1984*:**\n",
    "- **“The Grapes of Wrath” by John Steinbeck** – If you haven’t tackled this one yet, it’s a masterclass in working-class dignity and injustice.\n",
    "- **“We” by Yevgeny Zamyatin** – A direct precursor to *1984*, this dystopian novel is eerie and brilliant.\n",
    "- **“The Dispossessed” by Ursula K. Le Guin** – A more hopeful but still complex critique of society and freedom through speculative fiction.\n",
    "\n",
    "---\n",
    "\n",
    "##### **If you liked *Black Dog of Fate*:**\n",
    "- **“There Was and There Was Not” by Meline Toumani** – A personal and controversial memoir about Armenian identity and post-genocide reckoning.\n",
    "- **“An Armenian Sketchbook” by Vasily Grossman** – A Russian-Jewish writer’s raw and humanizing observations of Armenia in the 1960s.\n",
    "\n",
    "---\n",
    "\n",
    "##### **If you liked *Number the Stars*:**\n",
    "- **“When Hitler Stole Pink Rabbit” by Judith Kerr** – A semi-autobiographical children's novel about fleeing Nazi Germany.\n",
    "- **“The Book Thief” by Markus Zusak** – Poetic and devastating, a story of love, loss, and resistance under Nazi rule.\n",
    "\n",
    "---\n",
    "\n",
    "##### **If you liked *Kindred*:**\n",
    "- **“Parable of the Sower” by Octavia E. Butler** – More brilliant, gripping dystopia with sharp social critique.\n",
    "- **“The Underground Railroad” by Colson Whitehead** – A surreal, emotional reimagining of the antebellum South.\n",
    "\n",
    "---\n",
    "\n",
    "Would you like recommendations more rooted in Armenian lit, dystopian fiction, historical fiction, or something totally new to shake things up?"
   ]
  },
  {
   "cell_type": "markdown",
   "id": "842b9fdc-392d-464a-9ebb-fcc297feb648",
   "metadata": {},
   "source": [
    "#### Prompt\n",
    "can you rank them in order of which ones you think i will like the most?"
   ]
  },
  {
   "cell_type": "markdown",
   "id": "d83644ae-e1c7-4716-bed2-db1a434de75f",
   "metadata": {},
   "source": [
    "#### Response\n",
    "Absolutely! Based on your past favorites—rich in emotion, history, identity, and social critique—here’s a personalized ranking of those recs, from most to least likely to deeply resonate with you:\n",
    "\n",
    "---\n",
    "\n",
    "##### ⭐ **Top Tier – Most Likely to Love**\n",
    "1. **_My Name Is Aram_ by William Saroyan** – Since you already adore Saroyan, this is his most personal, funny, and nostalgic work—an instant win.\n",
    "2. **_Parable of the Sower_ by Octavia E. Butler** – Same author, same brilliance. A dystopia that blends haunting realism with spiritual hope and raw survival.\n",
    "3. **_The Grapes of Wrath_ by John Steinbeck** – If *Of Mice and Men* hit you, this will devastate and inspire you. A masterwork of injustice, dignity, and human struggle.\n",
    "4. **_The Underground Railroad_ by Colson Whitehead** – Powerful, poetic, with Butler-esque speculative twists and emotional depth.\n",
    "5. **_Black Dog of Fate_** adjacent: **_There Was and There Was Not_ by Meline Toumani** – Personal and provocative, another Armenian American wrestling with inherited history and activism.\n",
    "\n",
    "---\n",
    "\n",
    "##### 💭 **Middle Tier – Still Very You, Just Depends on Mood**\n",
    "6. **_An Armenian Sketchbook_ by Vasily Grossman** – A quiet, reflective portrait of Armenian life through an outsider’s sensitive gaze. Great if you want a slower, meditative read.\n",
    "7. **_The Book Thief_ by Markus Zusak** – Thoughtful, lyrical, and touching. It has that *Number the Stars* innocence but with broader literary style.\n",
    "8. **_We_ by Yevgeny Zamyatin** – If you love *1984* and want to go deeper into early dystopia, this is sharp and clever—but a bit more abstract in tone.\n",
    "\n",
    "---\n",
    "\n",
    "##### ✨ **Still Worthwhile – May Not Hit as Hard Emotionally**\n",
    "9. **_The Book of My Lives_ by Aleksandar Hemon** – Stunningly written, more modern and less plot-driven. If you’re in a reflective, essay-memoir mood.\n",
    "10. **_When Hitler Stole Pink Rabbit_ by Judith Kerr** – More geared toward a younger audience like *Number the Stars*; still moving, but may feel simpler now.\n",
    "11. **_The Dispossessed_ by Ursula K. Le Guin** – Deeply philosophical and thought-provoking, but heavier on ideas than character. You might love it... or just respect it.\n",
    "\n",
    "---\n",
    "\n",
    "Want me to make a visual version of this, like a personalized book ladder or moodboard? Or recommend a few books that are *way out of left field* but could surprise you in a good way?"
   ]
  },
  {
   "cell_type": "markdown",
   "id": "bf9bddd8-497c-4945-8352-ff092ad65568",
   "metadata": {},
   "source": [
    "### My reflection\n",
    "This was very successful! I believe that ChatGPT4o did a wonderful job in recommending me books, especially because I actually recently bought three of the books on this list! It was pretty spot on and put a good amount of thought and deliberation into its suggestions. I am very pleased and will be consulting AI again next time I need a good book rec!"
   ]
  },
  {
   "cell_type": "markdown",
   "id": "26fb4375-47eb-46f3-a60f-96a5a381b453",
   "metadata": {},
   "source": [
    "![](books.png)"
   ]
  },
  {
   "cell_type": "markdown",
   "id": "2a0bd0d6-59c1-4a6d-a40e-d2f17df57667",
   "metadata": {},
   "source": [
    "However, this LLM clearly is a much better librarian than it is an illustrator, as the image it generated above has spelling mistakes throughout each of the book titles and author names it drew up. "
   ]
  }
 ],
 "metadata": {
  "citation-manager": {
   "items": {}
  },
  "kernelspec": {
   "display_name": "Python 3-12 (COMM4190)",
   "language": "python",
   "name": "python3-12_comm4190"
  },
  "language_info": {
   "codemirror_mode": {
    "name": "ipython",
    "version": 3
   },
   "file_extension": ".py",
   "mimetype": "text/x-python",
   "name": "python",
   "nbconvert_exporter": "python",
   "pygments_lexer": "ipython3",
   "version": "3.12.8"
  }
 },
 "nbformat": 4,
 "nbformat_minor": 5
}
