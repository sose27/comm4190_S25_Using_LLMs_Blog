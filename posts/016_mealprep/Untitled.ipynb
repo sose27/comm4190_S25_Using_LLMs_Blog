{
 "cells": [
  {
   "cell_type": "raw",
   "id": "ca54c83d-857d-49f4-8455-8b8cdc71b201",
   "metadata": {},
   "source": [
    "---\n",
    "title: \"Reducing Food Waste with Creativity\"\n",
    "description: \"Asking ChatGPT for meal ideas with a hodgepodge of ingredients\"\n",
    "author: Sose\n",
    "date: \"4/26/2024\"\n",
    "categories:\n",
    "  - LLMs\n",
    "  - Advice \n",
    "  - Prompting\n",
    "---"
   ]
  },
  {
   "cell_type": "markdown",
   "id": "bdc1676e-95b7-4c03-9d94-973064b9ec2a",
   "metadata": {},
   "source": [
    "## Can an LLM come up with easy, realistic meal prep plans with whatever I have in my fridge?\n",
    "\n",
    "*As the school year comes to an end, I am faced with a struggle familiar to too many college students. My fridge (and freezer) are full of a mishmosh of ingredients and foodstuffs that I don't know how to use together. I am turning to an LLM to help me create a list of ideas to make quick, easy, and tasty meals.* \n",
    "\n",
    "**Can ChatGPT give me a list of efficient, yummy meals with all the ingredients I have?** "
   ]
  },
  {
   "cell_type": "markdown",
   "id": "8889dd5b-452b-41be-9119-50cd83e1a9f8",
   "metadata": {},
   "source": [
    "![](food.png)"
   ]
  },
  {
   "cell_type": "markdown",
   "id": "25495d48-535c-4e30-b7e8-a64e415ff2cc",
   "metadata": {},
   "source": [
    "### Prompting ChatGPT about this\n",
    "\n",
    "#### Prompt \n",
    "Hi! My semester ends in two weeks and I have a random assortment of food and ingredients in my fridge/pantry. can you help me come up with ideas to make meals that are quick, easy, and tasty?"
   ]
  },
  {
   "cell_type": "markdown",
   "id": "4959eaa5-d01c-4ad9-bab6-4eef91ae2580",
   "metadata": {},
   "source": [
    "#### Response \n",
    "Absolutely, I got you! Just tell me what ingredients you have in your fridge and pantry (be as random or detailed as you want), and I’ll turn that chaos into a lineup of easy, tasty meals you can actually make.\n",
    "\n",
    "Feel free to list things like:\n",
    "- Proteins (eggs, canned tuna, chicken, tofu…)\n",
    "- Veggies (fresh, frozen, or even a half-onion from two weeks ago lol)\n",
    "- Grains (rice, pasta, tortillas, bread)\n",
    "- Sauces/condiments (soy sauce, pesto, hot sauce, mayo, etc.)\n",
    "- Dairy (cheese, milk, yogurt)\n",
    "- Snacks that could moonlight as ingredients (chips, hummus, etc.)\n",
    "\n",
    "Once I have the inventory, I’ll whip up a meal plan with minimal effort and maximum flavor 👩‍🍳"
   ]
  },
  {
   "cell_type": "markdown",
   "id": "28284974-0791-4ea9-a1bc-ad99605a86ce",
   "metadata": {},
   "source": [
    "#### Prompt \n",
    "- ground beef\n",
    "- 3 packs of pasta\n",
    "- frozen potstickers\n",
    "- 2 packs of pearlized couscous \n",
    "- minced garlic\n",
    "- mayo\n",
    "- turkey breast\n",
    "- 3 cucumbers\n",
    "- frozen green beans\n",
    "- tomato sauce\n",
    "- 2 yellow onions\n",
    "- five green onions\n",
    "- one pack of instant ramen noodles\n",
    "- 2 noodle soup packets\n",
    "- tortillas\n",
    "- mozzarella cheese\n",
    "- one dozen eggs"
   ]
  },
  {
   "cell_type": "markdown",
   "id": "c6b2e425-f60e-40f2-864e-21c4598d8e8f",
   "metadata": {},
   "source": [
    "#### Response \n",
    "Oooooh you actually have **a great stash** to work with. Here are some fast, flavorful meals you can make over the next two weeks using what you’ve got — no extra grocery trips required:\n",
    "\n",
    "---\n",
    "\n",
    "### 🔥 1. **Weeknight Bolognese**\n",
    "**Use:** Ground beef, pasta, tomato sauce, yellow onion, garlic  \n",
    "**How:**  \n",
    "Sauté diced onion and minced garlic, brown the beef, then add tomato sauce. Simmer for ~10 minutes. Toss with pasta.  \n",
    "**Bonus:** Top with green onions or mozzarella if you’re feeling fancy.\n",
    "\n",
    "---\n",
    "\n",
    "### 🌯 2. **Ground Beef & Cheese Tortilla Wraps**\n",
    "**Use:** Ground beef, tortillas, mozzarella cheese, onion  \n",
    "**How:**  \n",
    "Cook the beef with onion + garlic, season with salt, pepper, chili flakes (if you have), then melt mozzarella on tortillas and wrap it all up like a quesadilla or burrito.\n",
    "\n",
    "---\n",
    "\n",
    "### 🍳 3. **Egg Fried Couscous**\n",
    "**Use:** Pearl couscous, eggs, green onions, garlic, frozen green beans  \n",
    "**How:**  \n",
    "Cook couscous, then fry in a pan with scrambled eggs, chopped green beans, garlic, and green onion. Stir-fry style.\n",
    "\n",
    "---\n",
    "\n",
    "### 🥒 4. **Cucumber & Turkey Cold Wraps**\n",
    "**Use:** Tortillas, turkey breast, cucumbers, mayo  \n",
    "**How:**  \n",
    "Slice cucumbers thin, layer turkey and a bit of mayo in tortillas, roll up for a fresh wrap. Quick lunch or snack!\n",
    "\n",
    "---\n",
    "\n",
    "### 🍝 5. **Ramen Stir Fry**\n",
    "**Use:** Instant ramen noodles, egg, garlic, green onion, green beans  \n",
    "**How:**  \n",
    "Boil ramen (skip the packet if you want), then stir-fry with scrambled egg, garlic, veggies, and green onions. Add the ramen seasoning or just soy sauce/sriracha if you have.\n",
    "\n",
    "---\n",
    "\n",
    "### 🥟 6. **Potsticker Bowl**\n",
    "**Use:** Potstickers, green beans, cucumbers  \n",
    "**How:**  \n",
    "Pan-fry or steam potstickers, serve over green beans + thin-sliced cucumber tossed in vinegar or soy sauce if available. Add green onion on top.\n",
    "\n",
    "---\n",
    "\n",
    "### 🍳 7. **Cheesy Egg Tortilla Tacos**\n",
    "**Use:** Tortillas, eggs, mozzarella cheese, green onion  \n",
    "**How:**  \n",
    "Scramble or fry eggs, place in tortillas with melty mozzarella and green onions. Done in 5 mins.\n",
    "\n",
    "---\n",
    "\n",
    "### 🍝 8. **Creamy Pasta Hack (If You’re Out of Sauce)**\n",
    "**Use:** Pasta, mayo, garlic, mozzarella  \n",
    "**How:**  \n",
    "Mix cooked pasta with a spoon of mayo, garlic, and mozzarella for a weirdly good creamy base. Add green onions or cucumbers if you're brave.\n",
    "\n",
    "---\n",
    "\n",
    "Would you like a suggested 7-day plan to use up the ingredients evenly, or are you more of a “vibe check each day” kind of chef? 😄"
   ]
  },
  {
   "cell_type": "markdown",
   "id": "b83e815f-95eb-47eb-b377-e168be15a0e6",
   "metadata": {},
   "source": [
    "#### Prompt \n",
    "A suggested plan would be great"
   ]
  },
  {
   "cell_type": "markdown",
   "id": "6c00759a-44f6-47e3-b760-544bb027977d",
   "metadata": {},
   "source": [
    "#### Response \n",
    "Perfect! Here’s a **7-day meal plan** using what you’ve got — balanced to use up fresh stuff before it goes bad and to keep things interesting. Each day has lunch + dinner options (or swap as needed). I've added little notes for shortcuts or swaps if you're tired or lazy (no judgment 😅).\n",
    "\n",
    "---\n",
    "\n",
    "### **🍽️ Day 1**\n",
    "- **Lunch:** Turkey + cucumber tortilla wraps with mayo  \n",
    "  (Fresh, crunchy, fast)\n",
    "- **Dinner:** Ground beef pasta with tomato sauce and sautéed onions & garlic  \n",
    "  (Use 1/3 of the ground beef and one pasta pack)\n",
    "\n",
    "---\n",
    "\n",
    "### **🍽️ Day 2**\n",
    "- **Lunch:** Egg + mozzarella tortilla tacos with green onion  \n",
    "  (Add garlic if you're feeling spicy)\n",
    "- **Dinner:** Pan-fried potstickers with sautéed green beans + cucumber slices  \n",
    "  (Drizzle with soy sauce or hot sauce if available)\n",
    "\n",
    "---\n",
    "\n",
    "### **🍽️ Day 3**\n",
    "- **Lunch:** Couscous stir-fry with egg, green beans, garlic, and green onion  \n",
    "- **Dinner:** Pasta with mozzarella + caramelized onions + green onion garnish  \n",
    "  (You’ll be shocked how good this simple combo is)\n",
    "\n",
    "---\n",
    "\n",
    "### **🍽️ Day 4**\n",
    "- **Lunch:** Turkey-cucumber “sushi” wraps (roll turkey + cucumber in tortillas, slice like sushi bites, dip in mayo or mustard if you have it)  \n",
    "- **Dinner:** Ramen stir-fry with egg, green beans, garlic, and green onion  \n",
    "  (Or just classic ramen soup with an egg poached in)\n",
    "\n",
    "---\n",
    "\n",
    "### **🍽️ Day 5**\n",
    "- **Lunch:** Couscous again — this time cold with diced cucumbers, green onions, and mayo or a vinaigrette-style mix  \n",
    "- **Dinner:** Ground beef cheesy tortillas (quesadilla style with beef + mozzarella + onion)\n",
    "\n",
    "---\n",
    "\n",
    "### **🍽️ Day 6**\n",
    "- **Lunch:** Pasta with tomato sauce and mozzarella  \n",
    "  (Last pasta pack! Add green onions or green beans if you want)  \n",
    "- **Dinner:** Potstickers again (you have a lot!) with scrambled egg and cucumber salad on the side\n",
    "\n",
    "---\n",
    "\n",
    "### **🍽️ Day 7**\n",
    "- **Lunch:** Leftover couscous + green beans + egg  \n",
    "  (Make it a bowl with mayo/garlic/green onion or just season well)  \n",
    "- **Dinner:** Final taco night! Eggs, green onion, cheese, whatever veggies are left — wrap it all up in tortillas for a clean-out-the-fridge feast\n",
    "\n",
    "---\n",
    "\n",
    "### 🧊 Leftover Check:\n",
    "- You’ll likely still have:  \n",
    "  - 1–2 eggs  \n",
    "  - Some mayo  \n",
    "  - Maybe a bit of turkey  \n",
    "  - Green onions or cucumber scraps  \n",
    "Use those for snacks, a last-minute wrap, or bonus egg fried rice if you find leftover rice hiding somewhere.\n",
    "\n",
    "Want me to make a printable or visual version of this plan for your fridge?"
   ]
  },
  {
   "cell_type": "markdown",
   "id": "8091f8ea-5885-4b31-b641-95721f3c1b0f",
   "metadata": {},
   "source": [
    "#### Prompt \n",
    "thank you, yes!"
   ]
  },
  {
   "cell_type": "markdown",
   "id": "c21ef75f-afe0-4a81-afce-ffeab17ff834",
   "metadata": {},
   "source": [
    "![](menu.png)"
   ]
  },
  {
   "cell_type": "markdown",
   "id": "8bdbae2c-c9b9-4412-a0bc-8a00be44345a",
   "metadata": {},
   "source": [
    "### My Reflection\n",
    "I wish I consulted chatgpt earlier in the semester! The LLM honestly did a great job at crafting a week full of meals that I would actually make! I think I may just end up actually trying out some of these meals. Excited to see what else it can come up with when I have different ingredients and food items to use. "
   ]
  }
 ],
 "metadata": {
  "citation-manager": {
   "items": {}
  },
  "kernelspec": {
   "display_name": "Python 3-12 (COMM4190)",
   "language": "python",
   "name": "python3-12_comm4190"
  },
  "language_info": {
   "codemirror_mode": {
    "name": "ipython",
    "version": 3
   },
   "file_extension": ".py",
   "mimetype": "text/x-python",
   "name": "python",
   "nbconvert_exporter": "python",
   "pygments_lexer": "ipython3",
   "version": "3.12.8"
  }
 },
 "nbformat": 4,
 "nbformat_minor": 5
}
