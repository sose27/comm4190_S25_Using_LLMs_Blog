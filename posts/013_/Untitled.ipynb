{
 "cells": [
  {
   "cell_type": "raw",
   "id": "3ab7a706-84c0-4ea9-952d-7abf372c754e",
   "metadata": {},
   "source": [
    "---\n",
    "title: \"Will AI replace marketers?\"\n",
    "description: \"Seeing if ChatGPT can save a dying brand\"\n",
    "author: Sose\n",
    "date: \"4/23/2024\"\n",
    "categories:\n",
    "  - LLMs\n",
    "  - prompting\n",
    "  - marketing\n",
    "---"
   ]
  },
  {
   "cell_type": "markdown",
   "id": "72f1b872-3a42-4592-bc80-6c79d27b4f8c",
   "metadata": {},
   "source": [
    "## Can ChatGPT cut my marketing costs?\n",
    "\n",
    "*In this conversation, I created a hypothetical small business, a college-student-owned affordable handmade jewelry brand: Sos Jewels. I asked ChatGPT to help with marketing as a business owner with no wiggle room for paid marketing.* \n",
    "\n",
    "**Will ChatGPT be able to revitalize my brand?** "
   ]
  },
  {
   "cell_type": "markdown",
   "id": "fe1d4ada-dad1-4879-b4cc-29b961b30872",
   "metadata": {},
   "source": [
    "![](sos.png)"
   ]
  },
  {
   "cell_type": "markdown",
   "id": "3e2ebdb7-40cb-40e2-8047-089a6919deed",
   "metadata": {},
   "source": [
    "### The Conversation\n",
    "\n",
    "#### Prompt \n",
    "#### Response\n",
    "#### Prompt \n",
    "#### Response\n",
    "#### Prompt \n",
    "#### Response\n",
    "#### Prompt \n",
    "#### Response\n",
    "#### Prompt \n",
    "#### Response"
   ]
  },
  {
   "cell_type": "markdown",
   "id": "6d462e8e-bed5-4f94-ba9d-af6429d6467b",
   "metadata": {},
   "source": [
    "![](jewels.png)"
   ]
  }
 ],
 "metadata": {
  "citation-manager": {
   "items": {}
  },
  "kernelspec": {
   "display_name": "Python 3-12 (COMM4190)",
   "language": "python",
   "name": "python3-12_comm4190"
  },
  "language_info": {
   "codemirror_mode": {
    "name": "ipython",
    "version": 3
   },
   "file_extension": ".py",
   "mimetype": "text/x-python",
   "name": "python",
   "nbconvert_exporter": "python",
   "pygments_lexer": "ipython3",
   "version": "3.12.8"
  }
 },
 "nbformat": 4,
 "nbformat_minor": 5
}
