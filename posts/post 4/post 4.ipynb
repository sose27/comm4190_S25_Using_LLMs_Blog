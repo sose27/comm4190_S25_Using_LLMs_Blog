{
 "cells": [
  {
   "cell_type": "raw",
   "id": "c4a816f7-1757-4d80-9db7-34d5f395b8e2",
   "metadata": {},
   "source": [
    "---\n",
    "title: \"Asking LLM about different native american tribe\"\n",
    "description: \"A post from a Jupyter notebook\"\n",
    "author: \"Sose Hovannisian\"\n",
    "date: \"2/3/2024\"\n",
    "categories:\n",
    "  - LLMs\n",
    "  - prompting\n",
    "  - logic\n",
    "---"
   ]
  },
  {
   "cell_type": "code",
   "execution_count": null,
   "id": "a2e586c3-c83e-4278-8271-a4f01c5d3dd1",
   "metadata": {},
   "outputs": [],
   "source": [
    "text=\"Asking LLM about native American tribes\""
   ]
  },
  {
   "cell_type": "code",
   "execution_count": null,
   "id": "2b86f95d-8c4e-4ca5-9b92-8f5922ca4d37",
   "metadata": {},
   "outputs": [],
   "source": [
    "text=\"Me: what do you know about native american tribes\""
   ]
  },
  {
   "cell_type": "code",
   "execution_count": null,
   "id": "a425cf37-da59-425e-9ce7-b3ea43fe1f84",
   "metadata": {},
   "outputs": [],
   "source": [
    "text= \"LLM: Native American tribes are diverse and numerous, each with its own unique culture, language, and history. As of the pre-Columbian era and continuing into the present day, hundreds of tribes have inhabited North America. Here are some key points about various Native American tribes: 1. **Cultural Diversity**: Native American tribes exhibit a wide range of cultural practices and social structures. Some tribes were hunter-gatherers, while others practiced agriculture and built permanent settlements. Each tribe had its own religious beliefs, ceremonies, and social norms. 2. **Languages**: There are hundreds of Native American languages, many of which belong to distinct language families. Some of the larger language families include Algonquian, Siouan, Iroquoian, Athabaskan, and Uto-Aztecan. 3. **Tribal Regions**: Tribes can often be categorized by regions which encompass similar environmental conditions and resources: - **Northeast**: Tribes like the Iroquois Confederacy (comprising the Mohawk, Oneida, Onondaga, Cayuga, Seneca, and later the Tuscarora) and the Algonquin.  - **Southeast**: Includes the Cherokee, Creek, Seminole, and Choctaw tribes. - **Great Plains**: Known for tribes such as the Sioux, Cheyenne, and Comanche, these groups typically relied on bison hunting.   - **Southwest**: Home to the Navajo and Apache tribes as well as the Pueblo peoples such as the Hopi and Zuni.   - **Northwest Coast**: Tribes like the Tlingit, Haida, and Salish, renowned for their totem poles and rich fishing culture.  - **California**: Diverse tribes like the Chumash, Miwok, and Yurok, each adapted to the varied landscapes of the region.4. **Historical Conflicts and Alliances**: Throughout history, Native American tribes engaged in both conflicts and alliances, among themselves and with European settlers. The dynamics of these relationships were often influenced by trade, territorial disputes, and responses to European colonization. 5. **Resilience and Revival**: Despite centuries of displacement, forced assimilation, and cultural suppression, many Native American tribes maintain cultural traditions and languages. Revitalization efforts, such as language preservation programs and cultural education initiatives, are helping to sustain their unique heritages. 6. **Sovereignty and Modern Issues**: Today, many tribes are recognized as sovereign nations within the US, with a degree of self-governance. However, they often face challenges related to economic development, legal rights, health care, education, and maintaining cultural identity. Understanding the breadth and diversity of Native American tribes provides valuable insight into the history and cultural richness of the United States prior to, and following, European colonization."
   ]
  },
  {
   "cell_type": "code",
   "execution_count": null,
   "id": "c73d8570-f74a-488e-98fd-f6f8dffa3ea9",
   "metadata": {},
   "outputs": [],
   "source": [
    "text=\"Me: what do you know about native american tribes\""
   ]
  },
  {
   "cell_type": "code",
   "execution_count": null,
   "id": "7c484f8d-1791-4ac7-b9e6-881c019dc889",
   "metadata": {},
   "outputs": [],
   "source": [
    "text=\"LLM: Certainly! Here's a list of some notable Native American tribes across different regions of what is now the United States: ### Northeast - **Iroquois Confederacy**: Mohawk, Oneida, Onondaga, Cayuga, Seneca, Tuscarora - **Algonquin** - **Wampanoag** - **Pequot** ### Southeast - **Cherokee** - **Choctaw** - **Creek (Muscogee)** - **Seminole** - **Chickasaw** ### Great Plains - **Lakota (Sioux)** - **Cheyenne** - **Pawnee** - **Crow** - **Comanche** ### Southwest - **Navajo (Diné)** - **Apache** - **Hopi** - **Zuni** - **Pueblo peoples (e.g., Taos, Acoma, Zia)** ### Northwest Coast - **Tlingit** - **Haida** - **Salish** - **Chinook** ### California - **Chumash** - **Miwok** - **Yurok** - **Pomo** ### Arctic and Subarctic - **Inuit** - **Aleut** - **Cree** ### Great Basin - **Shoshone** - **Ute** - **Paiute** ### Plateau - **Nez Perce** - **Spokane** - **Klamath** ### Midwest - **Potawatomi** - **Ojibwe (Chippewa)** - **Kickapoo** ### Eastern Woodlands - **Lenape (Delaware)** - **Shawnee** - **Miami** Each of these tribes has its own distinct culture, history, and contributions to the rich tapestry of Native American heritage in North America. Many of these tribes continue to thrive today, preserving their traditions and languages while engaging in modern American life.\""
   ]
  }
 ],
 "metadata": {
  "kernelspec": {
   "display_name": "Python 3-12 (COMM4190)",
   "language": "python",
   "name": "python3-12_comm4190"
  },
  "language_info": {
   "codemirror_mode": {
    "name": "ipython",
    "version": 3
   },
   "file_extension": ".py",
   "mimetype": "text/x-python",
   "name": "python",
   "nbconvert_exporter": "python",
   "pygments_lexer": "ipython3",
   "version": "3.12.8"
  }
 },
 "nbformat": 4,
 "nbformat_minor": 5
}
