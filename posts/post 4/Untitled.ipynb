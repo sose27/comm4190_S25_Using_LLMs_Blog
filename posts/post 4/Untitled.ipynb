{
 "cells": [
  {
   "cell_type": "raw",
   "id": "c9dd8d48-1e8b-4946-bb38-9004fc6dfa9e",
   "metadata": {},
   "source": [
    "---\n",
    "title: \"LA expertise\"\n",
    "description: \"An inside scoop into the city of Angels\"\n",
    "author: Sose\"\n",
    "date: \"2/2/2024\"\n",
    "categories:\n",
    "  - LLMs\n",
    "  - prompting\n",
    "  - logic\n",
    "---"
   ]
  },
  {
   "cell_type": "markdown",
   "id": "d42ffb9b-a71b-4172-bdd8-1233be786454",
   "metadata": {},
   "source": [
    "text=As a native Angeleno, I feel as though I have extensive knowledge of the ins and outs of the city of Angels. "
   ]
  }
 ],
 "metadata": {
  "kernelspec": {
   "display_name": "Python 3-12 (COMM4190)",
   "language": "python",
   "name": "python3-12_comm4190"
  },
  "language_info": {
   "codemirror_mode": {
    "name": "ipython",
    "version": 3
   },
   "file_extension": ".py",
   "mimetype": "text/x-python",
   "name": "python",
   "nbconvert_exporter": "python",
   "pygments_lexer": "ipython3",
   "version": "3.12.8"
  }
 },
 "nbformat": 4,
 "nbformat_minor": 5
}
